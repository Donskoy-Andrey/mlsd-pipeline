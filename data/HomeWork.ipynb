{
 "cells": [
  {
   "cell_type": "markdown",
   "id": "97067b1b-b81f-4a8d-930e-f98923ed2c98",
   "metadata": {
    "jp-MarkdownHeadingCollapsed": true
   },
   "source": [
    "# Home Work\n",
    "\n",
    "В этой работе будем иследовать одну из популярнейших рекомендательных моделей - **Latent Factor Model** - https://arxiv.org/pdf/1912.04754. \n",
    "\n",
    "Перед выполнением задания нужно убедиться, что прогоняется бейзлайн. Для этого:\n",
    "1. Скачайте  файлы - `node2name.json` и `clickstream.parquet` с необходимыми данными.\n",
    "2. Положите в репозиторий ноутбука и запустите код.\n",
    "\n",
    "В этой работе вам нужно:\n",
    "1. Перебрать параметры модели - `edim`, `batch_size`, `lr`, `epoch`, `num_negatives` - (по **1 баллу - 5 балов**) \n",
    "2. Тип `OPTIMIZER_NAME` - (**4 балла за 5 оптимизаторов**)\n",
    "3. На основе имеющихся данных собрать лучшую модель (по **precision@30**) и рассчитать ее метрики (**4 балла**)\n",
    "4. Попробовать другие модели (например  `ALS` - https://benfred.github.io/implicit/ , `gru4rec`, `sasrec`) - за sasrec на хорошем уровне сразу **10 баллов**. За другие модели по **3 балла**\n",
    "5. По окончанию работы в mlflow настроить графики для сравнения моделей. Можно проявить фантазию, но обязательно должно быть сравнение с бейзлайном (данный ноутбук) против других моделей\n",
    "6. В `mlflow` залогировать последнюю версию ноутбука - необходимое условия. Либо в github, но тогда прикрепить ссылку в [mlflow](http://84.201.128.89:90/).\n",
    "7. Эксперимент в формате - `homework-\\<name\\>`\n",
    "8. Доп баллы (**20 баллов**) тому у кого будет наибольший скор на тесте. Но ваш ноутбук должен прогонятся и быть вопроизводимым.\n",
    "\n",
    "Суммарно за работу **20 балов**."
   ]
  },
  {
   "cell_type": "markdown",
   "id": "b2dc7e38-e8f9-4d0c-929d-3d4e1144e188",
   "metadata": {},
   "source": [
    "# Installation"
   ]
  },
  {
   "cell_type": "code",
   "execution_count": 1,
   "id": "5f3fda70-ebbf-4341-a65f-552e3233f470",
   "metadata": {
    "scrolled": true
   },
   "outputs": [
    {
     "name": "stdout",
     "output_type": "stream",
     "text": [
      "alembic==1.13.1\n",
      "aniso8601==9.0.1\n",
      "anyio==4.3.0\n",
      "argon2-cffi==23.1.0\n",
      "argon2-cffi-bindings==21.2.0\n",
      "arrow==1.3.0\n",
      "asttokens==2.4.1\n",
      "async-lru==2.0.4\n",
      "attrs==23.2.0\n",
      "Babel==2.14.0\n",
      "backcall==0.2.0\n",
      "beautifulsoup4==4.12.3\n",
      "bleach==6.1.0\n",
      "blinker==1.8.2\n",
      "cachetools==5.3.3\n",
      "certifi==2024.2.2\n",
      "cffi==1.16.0\n",
      "charset-normalizer==3.3.2\n",
      "click==8.1.7\n",
      "cloudpickle==3.0.0\n",
      "colorlog==6.8.2\n",
      "comm==0.2.2\n",
      "contourpy==1.2.1\n",
      "cramjam==2.8.3\n",
      "cycler==0.12.1\n",
      "debugpy==1.8.1\n",
      "decorator==5.1.1\n",
      "defusedxml==0.7.1\n",
      "Deprecated==1.2.14\n",
      "docker==7.0.0\n",
      "docopt==0.6.2\n",
      "entrypoints==0.4\n",
      "exceptiongroup==1.2.1\n",
      "executing==2.0.1\n",
      "fastjsonschema==2.19.1\n",
      "fastparquet==2024.2.0\n",
      "filelock==3.14.0\n",
      "Flask==3.0.3\n",
      "fonttools==4.51.0\n",
      "fqdn==1.5.1\n",
      "fsspec==2024.3.1\n",
      "gitdb==4.0.11\n",
      "GitPython==3.1.43\n",
      "graphene==3.3\n",
      "graphql-core==3.2.3\n",
      "graphql-relay==3.2.0\n",
      "greenlet==3.0.3\n",
      "gunicorn==22.0.0\n",
      "h11==0.14.0\n",
      "httpcore==1.0.5\n",
      "httpx==0.27.0\n",
      "huggingface-hub==0.22.2\n",
      "idna==3.7\n",
      "importlib-metadata==7.0.0\n",
      "ipykernel==6.29.4\n",
      "ipython==8.12.3\n",
      "ipywidgets==8.1.3\n",
      "isoduration==20.11.0\n",
      "itsdangerous==2.2.0\n",
      "jedi==0.19.1\n",
      "Jinja2==3.1.3\n",
      "joblib==1.4.0\n",
      "json5==0.9.25\n",
      "jsonpointer==2.4\n",
      "jsonschema==4.21.1\n",
      "jsonschema-specifications==2023.12.1\n",
      "jupyter==1.0.0\n",
      "jupyter-console==6.6.3\n",
      "jupyter-events==0.10.0\n",
      "jupyter-lsp==2.2.5\n",
      "jupyter_client==8.6.1\n",
      "jupyter_core==5.7.2\n",
      "jupyter_server==2.14.0\n",
      "jupyter_server_terminals==0.5.3\n",
      "jupyterlab==4.2.1\n",
      "jupyterlab_pygments==0.3.0\n",
      "jupyterlab_server==2.27.1\n",
      "jupyterlab_widgets==3.0.11\n",
      "kiwisolver==1.4.5\n",
      "Mako==1.3.5\n",
      "Markdown==3.6\n",
      "MarkupSafe==2.1.5\n",
      "matplotlib==3.8.4\n",
      "matplotlib-inline==0.1.7\n",
      "mistune==3.0.2\n",
      "mlflow==2.12.2\n",
      "mpmath==1.3.0\n",
      "nbclient==0.10.0\n",
      "nbconvert==7.16.3\n",
      "nbformat==5.10.4\n",
      "nest-asyncio==1.6.0\n",
      "networkx==3.3\n",
      "nltk==3.8.1\n",
      "nodejs==0.1.1\n",
      "notebook==7.1.3\n",
      "notebook_shim==0.2.4\n",
      "numpy==1.26.4\n",
      "nvidia-cublas-cu12==12.1.3.1\n",
      "nvidia-cuda-cupti-cu12==12.1.105\n",
      "nvidia-cuda-nvrtc-cu12==12.1.105\n",
      "nvidia-cuda-runtime-cu12==12.1.105\n",
      "nvidia-cudnn-cu12==8.9.2.26\n",
      "nvidia-cufft-cu12==11.0.2.54\n",
      "nvidia-curand-cu12==10.3.2.106\n",
      "nvidia-cusolver-cu12==11.4.5.107\n",
      "nvidia-cusparse-cu12==12.1.0.106\n",
      "nvidia-nccl-cu12==2.20.5\n",
      "nvidia-nvjitlink-cu12==12.4.127\n",
      "nvidia-nvtx-cu12==12.1.105\n",
      "opentelemetry-api==1.24.0\n",
      "opentelemetry-sdk==1.24.0\n",
      "opentelemetry-semantic-conventions==0.45b0\n",
      "optional-django==0.1.0\n",
      "optuna==3.6.1\n",
      "overrides==7.7.0\n",
      "packaging==24.0\n",
      "pandas==2.2.2\n",
      "pandocfilters==1.5.1\n",
      "parso==0.8.4\n",
      "pexpect==4.9.0\n",
      "pickleshare==0.7.5\n",
      "pillow==10.3.0\n",
      "pipreqs==0.5.0\n",
      "platformdirs==4.2.1\n",
      "prometheus_client==0.20.0\n",
      "prompt-toolkit==3.0.43\n",
      "protobuf==4.25.3\n",
      "psutil==5.9.8\n",
      "ptyprocess==0.7.0\n",
      "pure-eval==0.2.2\n",
      "pyarrow==15.0.2\n",
      "pycparser==2.22\n",
      "Pygments==2.17.2\n",
      "pyparsing==3.1.2\n",
      "python-dateutil==2.9.0.post0\n",
      "python-json-logger==2.0.7\n",
      "pytz==2024.1\n",
      "PyYAML==6.0.1\n",
      "pyzmq==26.0.2\n",
      "qtconsole==5.5.1\n",
      "QtPy==2.4.1\n",
      "querystring-parser==1.2.4\n",
      "referencing==0.35.0\n",
      "regex==2024.4.28\n",
      "requests==2.31.0\n",
      "rfc3339-validator==0.1.4\n",
      "rfc3986-validator==0.1.1\n",
      "rpds-py==0.18.0\n",
      "safetensors==0.4.3\n",
      "scikit-learn==1.4.2\n",
      "scipy==1.13.0\n",
      "seaborn==0.13.2\n",
      "Send2Trash==1.8.3\n",
      "six==1.16.0\n",
      "smmap==5.0.1\n",
      "sniffio==1.3.1\n",
      "soupsieve==2.5\n",
      "SQLAlchemy==2.0.30\n",
      "sqlparse==0.5.0\n",
      "stack-data==0.6.3\n",
      "sympy==1.12\n",
      "terminado==0.18.1\n",
      "threadpoolctl==3.4.0\n",
      "tinycss2==1.3.0\n",
      "tokenizers==0.19.1\n",
      "tomli==2.0.1\n",
      "torch==2.3.0\n",
      "torchaudio==2.3.0\n",
      "torchvision==0.18.0\n",
      "tornado==6.4\n",
      "tqdm==4.66.4\n",
      "traitlets==5.14.3\n",
      "transformers==4.40.1\n",
      "triton==2.3.0\n",
      "types-python-dateutil==2.9.0.20240316\n",
      "typing_extensions==4.11.0\n",
      "tzdata==2024.1\n",
      "uri-template==1.3.0\n",
      "urllib3==2.2.1\n",
      "wcwidth==0.2.13\n",
      "webcolors==1.13\n",
      "webencodings==0.5.1\n",
      "websocket-client==1.8.0\n",
      "Werkzeug==3.0.3\n",
      "widgetsnbextension==4.0.11\n",
      "wrapt==1.16.0\n",
      "yarg==0.1.9\n",
      "zipp==3.18.1\n"
     ]
    }
   ],
   "source": [
    "!pip freeze"
   ]
  },
  {
   "cell_type": "code",
   "execution_count": 2,
   "id": "c7d6e8da-9f9c-4093-8c97-a47012de2572",
   "metadata": {
    "scrolled": true
   },
   "outputs": [
    {
     "name": "stdout",
     "output_type": "stream",
     "text": [
      "Requirement already satisfied: mlflow==2.12.2 in /home/user/.pyenv/versions/3.10.9/lib/python3.10/site-packages (2.12.2)\n",
      "Requirement already satisfied: Flask<4 in /home/user/.pyenv/versions/3.10.9/lib/python3.10/site-packages (from mlflow==2.12.2) (3.0.3)\n",
      "Requirement already satisfied: alembic!=1.10.0,<2 in /home/user/.pyenv/versions/3.10.9/lib/python3.10/site-packages (from mlflow==2.12.2) (1.13.1)\n",
      "Requirement already satisfied: click<9,>=7.0 in /home/user/.pyenv/versions/3.10.9/lib/python3.10/site-packages (from mlflow==2.12.2) (8.1.7)\n",
      "Requirement already satisfied: cloudpickle<4 in /home/user/.pyenv/versions/3.10.9/lib/python3.10/site-packages (from mlflow==2.12.2) (3.0.0)\n",
      "Requirement already satisfied: docker<8,>=4.0.0 in /home/user/.pyenv/versions/3.10.9/lib/python3.10/site-packages (from mlflow==2.12.2) (7.0.0)\n",
      "Requirement already satisfied: entrypoints<1 in /home/user/.pyenv/versions/3.10.9/lib/python3.10/site-packages (from mlflow==2.12.2) (0.4)\n",
      "Requirement already satisfied: gitpython<4,>=3.1.9 in /home/user/.pyenv/versions/3.10.9/lib/python3.10/site-packages (from mlflow==2.12.2) (3.1.43)\n",
      "Requirement already satisfied: graphene<4 in /home/user/.pyenv/versions/3.10.9/lib/python3.10/site-packages (from mlflow==2.12.2) (3.3)\n",
      "Requirement already satisfied: importlib-metadata!=4.7.0,<8,>=3.7.0 in /home/user/.pyenv/versions/3.10.9/lib/python3.10/site-packages (from mlflow==2.12.2) (7.0.0)\n",
      "Requirement already satisfied: markdown<4,>=3.3 in /home/user/.pyenv/versions/3.10.9/lib/python3.10/site-packages (from mlflow==2.12.2) (3.6)\n",
      "Requirement already satisfied: matplotlib<4 in /home/user/.pyenv/versions/3.10.9/lib/python3.10/site-packages (from mlflow==2.12.2) (3.8.4)\n",
      "Requirement already satisfied: numpy<2 in /home/user/.pyenv/versions/3.10.9/lib/python3.10/site-packages (from mlflow==2.12.2) (1.26.4)\n",
      "Requirement already satisfied: packaging<25 in /home/user/.pyenv/versions/3.10.9/lib/python3.10/site-packages (from mlflow==2.12.2) (24.0)\n",
      "Requirement already satisfied: pandas<3 in /home/user/.pyenv/versions/3.10.9/lib/python3.10/site-packages (from mlflow==2.12.2) (2.2.2)\n",
      "Requirement already satisfied: protobuf<5,>=3.12.0 in /home/user/.pyenv/versions/3.10.9/lib/python3.10/site-packages (from mlflow==2.12.2) (4.25.3)\n",
      "Requirement already satisfied: pyarrow<16,>=4.0.0 in /home/user/.pyenv/versions/3.10.9/lib/python3.10/site-packages (from mlflow==2.12.2) (15.0.2)\n",
      "Requirement already satisfied: pytz<2025 in /home/user/.pyenv/versions/3.10.9/lib/python3.10/site-packages (from mlflow==2.12.2) (2024.1)\n",
      "Requirement already satisfied: pyyaml<7,>=5.1 in /home/user/.pyenv/versions/3.10.9/lib/python3.10/site-packages (from mlflow==2.12.2) (6.0.1)\n",
      "Requirement already satisfied: querystring-parser<2 in /home/user/.pyenv/versions/3.10.9/lib/python3.10/site-packages (from mlflow==2.12.2) (1.2.4)\n",
      "Requirement already satisfied: requests<3,>=2.17.3 in /home/user/.pyenv/versions/3.10.9/lib/python3.10/site-packages (from mlflow==2.12.2) (2.31.0)\n",
      "Requirement already satisfied: scikit-learn<2 in /home/user/.pyenv/versions/3.10.9/lib/python3.10/site-packages (from mlflow==2.12.2) (1.4.2)\n",
      "Requirement already satisfied: scipy<2 in /home/user/.pyenv/versions/3.10.9/lib/python3.10/site-packages (from mlflow==2.12.2) (1.13.0)\n",
      "Requirement already satisfied: sqlalchemy<3,>=1.4.0 in /home/user/.pyenv/versions/3.10.9/lib/python3.10/site-packages (from mlflow==2.12.2) (2.0.30)\n",
      "Requirement already satisfied: sqlparse<1,>=0.4.0 in /home/user/.pyenv/versions/3.10.9/lib/python3.10/site-packages (from mlflow==2.12.2) (0.5.0)\n",
      "Requirement already satisfied: Jinja2<4,>=2.11 in /home/user/.pyenv/versions/3.10.9/lib/python3.10/site-packages (from mlflow==2.12.2) (3.1.3)\n",
      "Requirement already satisfied: gunicorn<23 in /home/user/.pyenv/versions/3.10.9/lib/python3.10/site-packages (from mlflow==2.12.2) (22.0.0)\n",
      "Requirement already satisfied: Mako in /home/user/.pyenv/versions/3.10.9/lib/python3.10/site-packages (from alembic!=1.10.0,<2->mlflow==2.12.2) (1.3.5)\n",
      "Requirement already satisfied: typing-extensions>=4 in /home/user/.pyenv/versions/3.10.9/lib/python3.10/site-packages (from alembic!=1.10.0,<2->mlflow==2.12.2) (4.11.0)\n",
      "Requirement already satisfied: urllib3>=1.26.0 in /home/user/.pyenv/versions/3.10.9/lib/python3.10/site-packages (from docker<8,>=4.0.0->mlflow==2.12.2) (2.2.1)\n",
      "Requirement already satisfied: Werkzeug>=3.0.0 in /home/user/.pyenv/versions/3.10.9/lib/python3.10/site-packages (from Flask<4->mlflow==2.12.2) (3.0.3)\n",
      "Requirement already satisfied: itsdangerous>=2.1.2 in /home/user/.pyenv/versions/3.10.9/lib/python3.10/site-packages (from Flask<4->mlflow==2.12.2) (2.2.0)\n",
      "Requirement already satisfied: blinker>=1.6.2 in /home/user/.pyenv/versions/3.10.9/lib/python3.10/site-packages (from Flask<4->mlflow==2.12.2) (1.8.2)\n",
      "Requirement already satisfied: gitdb<5,>=4.0.1 in /home/user/.pyenv/versions/3.10.9/lib/python3.10/site-packages (from gitpython<4,>=3.1.9->mlflow==2.12.2) (4.0.11)\n",
      "Requirement already satisfied: graphql-core<3.3,>=3.1 in /home/user/.pyenv/versions/3.10.9/lib/python3.10/site-packages (from graphene<4->mlflow==2.12.2) (3.2.3)\n",
      "Requirement already satisfied: graphql-relay<3.3,>=3.1 in /home/user/.pyenv/versions/3.10.9/lib/python3.10/site-packages (from graphene<4->mlflow==2.12.2) (3.2.0)\n",
      "Requirement already satisfied: aniso8601<10,>=8 in /home/user/.pyenv/versions/3.10.9/lib/python3.10/site-packages (from graphene<4->mlflow==2.12.2) (9.0.1)\n",
      "Requirement already satisfied: zipp>=0.5 in /home/user/.pyenv/versions/3.10.9/lib/python3.10/site-packages (from importlib-metadata!=4.7.0,<8,>=3.7.0->mlflow==2.12.2) (3.18.1)\n",
      "Requirement already satisfied: MarkupSafe>=2.0 in /home/user/.pyenv/versions/3.10.9/lib/python3.10/site-packages (from Jinja2<4,>=2.11->mlflow==2.12.2) (2.1.5)\n",
      "Requirement already satisfied: contourpy>=1.0.1 in /home/user/.pyenv/versions/3.10.9/lib/python3.10/site-packages (from matplotlib<4->mlflow==2.12.2) (1.2.1)\n",
      "Requirement already satisfied: cycler>=0.10 in /home/user/.pyenv/versions/3.10.9/lib/python3.10/site-packages (from matplotlib<4->mlflow==2.12.2) (0.12.1)\n",
      "Requirement already satisfied: fonttools>=4.22.0 in /home/user/.pyenv/versions/3.10.9/lib/python3.10/site-packages (from matplotlib<4->mlflow==2.12.2) (4.51.0)\n",
      "Requirement already satisfied: kiwisolver>=1.3.1 in /home/user/.pyenv/versions/3.10.9/lib/python3.10/site-packages (from matplotlib<4->mlflow==2.12.2) (1.4.5)\n",
      "Requirement already satisfied: pillow>=8 in /home/user/.pyenv/versions/3.10.9/lib/python3.10/site-packages (from matplotlib<4->mlflow==2.12.2) (10.3.0)\n",
      "Requirement already satisfied: pyparsing>=2.3.1 in /home/user/.pyenv/versions/3.10.9/lib/python3.10/site-packages (from matplotlib<4->mlflow==2.12.2) (3.1.2)\n",
      "Requirement already satisfied: python-dateutil>=2.7 in /home/user/.pyenv/versions/3.10.9/lib/python3.10/site-packages (from matplotlib<4->mlflow==2.12.2) (2.9.0.post0)\n",
      "Requirement already satisfied: tzdata>=2022.7 in /home/user/.pyenv/versions/3.10.9/lib/python3.10/site-packages (from pandas<3->mlflow==2.12.2) (2024.1)\n",
      "Requirement already satisfied: six in /home/user/.pyenv/versions/3.10.9/lib/python3.10/site-packages (from querystring-parser<2->mlflow==2.12.2) (1.16.0)\n",
      "Requirement already satisfied: charset-normalizer<4,>=2 in /home/user/.pyenv/versions/3.10.9/lib/python3.10/site-packages (from requests<3,>=2.17.3->mlflow==2.12.2) (3.3.2)\n",
      "Requirement already satisfied: idna<4,>=2.5 in /home/user/.pyenv/versions/3.10.9/lib/python3.10/site-packages (from requests<3,>=2.17.3->mlflow==2.12.2) (3.7)\n",
      "Requirement already satisfied: certifi>=2017.4.17 in /home/user/.pyenv/versions/3.10.9/lib/python3.10/site-packages (from requests<3,>=2.17.3->mlflow==2.12.2) (2024.2.2)\n",
      "Requirement already satisfied: joblib>=1.2.0 in /home/user/.pyenv/versions/3.10.9/lib/python3.10/site-packages (from scikit-learn<2->mlflow==2.12.2) (1.4.0)\n",
      "Requirement already satisfied: threadpoolctl>=2.0.0 in /home/user/.pyenv/versions/3.10.9/lib/python3.10/site-packages (from scikit-learn<2->mlflow==2.12.2) (3.4.0)\n",
      "Requirement already satisfied: greenlet!=0.4.17 in /home/user/.pyenv/versions/3.10.9/lib/python3.10/site-packages (from sqlalchemy<3,>=1.4.0->mlflow==2.12.2) (3.0.3)\n",
      "Requirement already satisfied: smmap<6,>=3.0.1 in /home/user/.pyenv/versions/3.10.9/lib/python3.10/site-packages (from gitdb<5,>=4.0.1->gitpython<4,>=3.1.9->mlflow==2.12.2) (5.0.1)\n",
      "Requirement already satisfied: optuna in /home/user/.pyenv/versions/3.10.9/lib/python3.10/site-packages (3.6.1)\n",
      "Requirement already satisfied: alembic>=1.5.0 in /home/user/.pyenv/versions/3.10.9/lib/python3.10/site-packages (from optuna) (1.13.1)\n",
      "Requirement already satisfied: colorlog in /home/user/.pyenv/versions/3.10.9/lib/python3.10/site-packages (from optuna) (6.8.2)\n",
      "Requirement already satisfied: numpy in /home/user/.pyenv/versions/3.10.9/lib/python3.10/site-packages (from optuna) (1.26.4)\n",
      "Requirement already satisfied: packaging>=20.0 in /home/user/.pyenv/versions/3.10.9/lib/python3.10/site-packages (from optuna) (24.0)\n",
      "Requirement already satisfied: sqlalchemy>=1.3.0 in /home/user/.pyenv/versions/3.10.9/lib/python3.10/site-packages (from optuna) (2.0.30)\n",
      "Requirement already satisfied: tqdm in /home/user/.pyenv/versions/3.10.9/lib/python3.10/site-packages (from optuna) (4.66.4)\n",
      "Requirement already satisfied: PyYAML in /home/user/.pyenv/versions/3.10.9/lib/python3.10/site-packages (from optuna) (6.0.1)\n",
      "Requirement already satisfied: Mako in /home/user/.pyenv/versions/3.10.9/lib/python3.10/site-packages (from alembic>=1.5.0->optuna) (1.3.5)\n",
      "Requirement already satisfied: typing-extensions>=4 in /home/user/.pyenv/versions/3.10.9/lib/python3.10/site-packages (from alembic>=1.5.0->optuna) (4.11.0)\n",
      "Requirement already satisfied: greenlet!=0.4.17 in /home/user/.pyenv/versions/3.10.9/lib/python3.10/site-packages (from sqlalchemy>=1.3.0->optuna) (3.0.3)\n",
      "Requirement already satisfied: MarkupSafe>=0.9.2 in /home/user/.pyenv/versions/3.10.9/lib/python3.10/site-packages (from Mako->alembic>=1.5.0->optuna) (2.1.5)\n"
     ]
    }
   ],
   "source": [
    "!pip install mlflow==2.12.2\n",
    "!pip install -U optuna"
   ]
  },
  {
   "cell_type": "code",
   "execution_count": 249,
   "id": "b7df50ff-bda6-4f39-a0cf-06c8e2d281ac",
   "metadata": {},
   "outputs": [],
   "source": [
    "import os\n",
    "import json\n",
    "import random\n",
    "    \n",
    "import pandas as pd\n",
    "import numpy as np\n",
    "import matplotlib.pyplot as plt\n",
    "\n",
    "from tqdm import tqdm\n",
    "from IPython.display import clear_output\n",
    "import mlflow\n",
    "\n",
    "import optuna\n",
    "import torch\n",
    "from torch import nn \n",
    "from torch.utils.data import Dataset, DataLoader"
   ]
  },
  {
   "cell_type": "code",
   "execution_count": 254,
   "id": "7e6b08d3-df4d-4902-bbaf-399801383559",
   "metadata": {},
   "outputs": [],
   "source": [
    "MLFLOW_ADDRESS = \"http://84.201.128.89:90/\"\n",
    "EXPERIMENT_NAME = \"homework-donskoy\"\n",
    "\n",
    "mlflow.set_tracking_uri(MLFLOW_ADDRESS)\n",
    "mlflow.set_experiment(EXPERIMENT_NAME)\n",
    "\n",
    "NOTEBOOK_PARAMS = {\n",
    "    \"df_limit\": 100_000,\n",
    "    \"notebook_path\": \"./HomeWork.ipynb\",\n",
    "    \"node2name\": \"./node2name.json\",\n",
    "    \"clickstream\": \"./clickstream.parquet\",\n",
    "    \"seed\": 42,\n",
    "}"
   ]
  },
  {
   "cell_type": "code",
   "execution_count": 5,
   "id": "f9ecbba5-a601-4e7d-9178-0595626e6ee0",
   "metadata": {},
   "outputs": [],
   "source": [
    "def seed_everything(seed: int):\n",
    "    random.seed(seed)\n",
    "    os.environ['PYTHONHASHSEED'] = str(seed)\n",
    "    np.random.seed(seed)\n",
    "\n",
    "    torch.manual_seed(seed)\n",
    "    torch.cuda.manual_seed(seed)\n",
    "    torch.backends.cudnn.deterministic = True\n",
    "    torch.backends.cudnn.benchmark = False\n",
    "    \n",
    "seed_everything(NOTEBOOK_PARAMS[\"seed\"])"
   ]
  },
  {
   "cell_type": "markdown",
   "id": "3bcc61c7-e590-4bc9-84e8-5bf4ff86539e",
   "metadata": {},
   "source": [
    "# Utils"
   ]
  },
  {
   "cell_type": "code",
   "execution_count": 6,
   "id": "770ad42a-f805-432e-9898-28dc5eb71543",
   "metadata": {},
   "outputs": [],
   "source": [
    "class RecDataset(Dataset):\n",
    "    def __init__(self, users, items, item_per_users):\n",
    "        self.users = users\n",
    "        self.items = items\n",
    "        self.item_per_users=item_per_users\n",
    "\n",
    "    def __len__(self):\n",
    "        return len(self.users)\n",
    "\n",
    "    def __getitem__(self, idx: int):\n",
    "        user = self.users[idx]\n",
    "        return torch.tensor(user), torch.tensor(self.items[idx]), self.item_per_users[user]"
   ]
  },
  {
   "cell_type": "code",
   "execution_count": 7,
   "id": "8c0a4418-0f55-40fc-ac03-31d0453ebb4e",
   "metadata": {},
   "outputs": [],
   "source": [
    "class LatentFactorModel(nn.Module):\n",
    "    def __init__(self, edim, user_indexes, node_indexes):\n",
    "        super(LatentFactorModel, self).__init__()\n",
    "        self.edim = edim\n",
    "        self.users = nn.Embedding(max(user_indexes) + 1, edim)\n",
    "        self.items = nn.Embedding(max(node_indexes) + 1, edim)\n",
    "\n",
    "    def forward(self, users, items):\n",
    "        user_embedings = self.users(users).reshape(-1, self.edim)\n",
    "        item_embedings = self.items(items)\n",
    "        # (n_users; edim) + (batch; n_items; edim) = (batch, n_items)\n",
    "        res = torch.einsum('be,bne->bn', user_embedings, item_embedings)\n",
    "        return res \n",
    "\n",
    "    def pred_top_k(self, users, K: int):\n",
    "        user_embedings = self.users(users).reshape(-1, self.edim )\n",
    "        item_embedings = self.items.weight\n",
    "        # (n_users; edim) + (n_items; edim) = (n_users, n_items)\n",
    "        res = torch.einsum('ue,ie->ui', user_embedings, item_embedings)\n",
    "        return torch.topk(res, K, dim=1)"
   ]
  },
  {
   "cell_type": "code",
   "execution_count": 8,
   "id": "fb55a89f-432a-4f14-bf9b-fd571e4e9deb",
   "metadata": {},
   "outputs": [],
   "source": [
    "def collate_fn(batch, num_negatives, num_items):\n",
    "    users, target_items, users_negatives = [], [], []\n",
    "    \n",
    "    for triplets in batch:\n",
    "        user, target_item, seen_item = triplets\n",
    "        \n",
    "        users.append(user)\n",
    "        target_items.append(target_item)\n",
    "        user_negatives = []\n",
    "        \n",
    "        while len(user_negatives)< num_negatives:\n",
    "            candidate = random.randint(0, num_items)\n",
    "            if candidate not in seen_item:\n",
    "                user_negatives.append(candidate)\n",
    "                \n",
    "        users_negatives.append(user_negatives)\n",
    "                \n",
    "    positive = torch.ones(len(batch), 1)       \n",
    "    negatives = torch.zeros(len(batch), num_negatives)\n",
    "    labels = torch.hstack([positive, negatives])\n",
    "    items = torch.hstack([\n",
    "        torch.tensor(target_items).reshape(-1, 1), \n",
    "        torch.tensor(users_negatives)\n",
    "    ])\n",
    "    return torch.hstack(users), items, labels"
   ]
  },
  {
   "cell_type": "code",
   "execution_count": 9,
   "id": "677070bc-5dce-4d59-a9c1-4a79009e2a5b",
   "metadata": {},
   "outputs": [],
   "source": [
    "def calculate_hitrate(df_preds: pd.DataFrame, K: int):\n",
    "    return df_preds[\n",
    "        df_preds['rank'] < K\n",
    "    ].groupby('user_index')['relevant'].max().mean()\n",
    "\n",
    "def calculate_precision(df_preds: pd.DataFrame, K: int):\n",
    "    return (\n",
    "        df_preds[\n",
    "            df_preds['rank'] < K\n",
    "        ].groupby('user_index')['relevant'].mean()\n",
    "    ).mean()"
   ]
  },
  {
   "cell_type": "code",
   "execution_count": 10,
   "id": "b1d4dcb4-5e6a-4eb3-a36f-69b7d72b50c4",
   "metadata": {},
   "outputs": [],
   "source": [
    "def plot(metrics: dict[str, list[float]]):\n",
    "    clear_output(wait=True)\n",
    "    fig, (loss, hitrate, precision) = plt.subplots(1, 3, figsize=[18, 5])\n",
    "    \n",
    "    loss.plot(\n",
    "        metrics[\"losses\"],\n",
    "        label='Loss', \n",
    "        c='black',\n",
    "    )\n",
    "    hitrate.plot(\n",
    "        metrics[\"hitrate\"],\n",
    "        label='Hitrate', \n",
    "        c='black',\n",
    "    )\n",
    "    precision.plot(\n",
    "        metrics[\"precision\"],\n",
    "        label='Precision', \n",
    "        c='black',\n",
    "    )\n",
    "    \n",
    "    loss.legend()\n",
    "    hitrate.legend()\n",
    "    precision.legend()\n",
    "    plt.show()\n",
    "    return fig"
   ]
  },
  {
   "cell_type": "code",
   "execution_count": 11,
   "id": "b2378e9c-31a9-4af8-90c6-e268e4bb7d46",
   "metadata": {},
   "outputs": [],
   "source": [
    "def get_preds(model, df: pd.DataFrame, run_params):\n",
    "    users = df['user_index'].unique()\n",
    "    preds = model.pred_top_k(\n",
    "        torch.tensor(users), run_params[\"K\"]\n",
    "    )[1].numpy()\n",
    "    df_preds = pd.DataFrame({\n",
    "        'node_index': list(preds), \n",
    "        'user_index': users, \n",
    "        'rank': [\n",
    "            [j for j in range(0, run_params[\"K\"])]\n",
    "            for i in range(len(preds))\n",
    "        ]\n",
    "    })\n",
    "    \n",
    "    df_preds = df_preds.explode(['node_index', 'rank']).merge(\n",
    "        df[['user_index', 'node_index']].assign(relevant=1).drop_duplicates(),\n",
    "        on=['user_index', 'node_index'],\n",
    "        how='left',\n",
    "    )\n",
    "    df_preds['relevant'] = df_preds['relevant'].fillna(0)\n",
    "\n",
    "    return df_preds"
   ]
  },
  {
   "cell_type": "markdown",
   "id": "7d31dcd8-b170-4141-bbe2-03f41382654b",
   "metadata": {},
   "source": [
    "# Data preparing"
   ]
  },
  {
   "cell_type": "code",
   "execution_count": 12,
   "id": "97f881cd-62bc-4b86-a517-1ccb8dfaca1a",
   "metadata": {},
   "outputs": [],
   "source": [
    "with open(NOTEBOOK_PARAMS[\"node2name\"], mode='r', encoding='utf-8') as file:\n",
    "    node2name = json.load(file)\n",
    "\n",
    "node2name = {int(k): v for k, v in node2name.items()}"
   ]
  },
  {
   "cell_type": "code",
   "execution_count": 13,
   "id": "d26b9c88-26c3-426e-b142-572cb2cd9c8b",
   "metadata": {},
   "outputs": [],
   "source": [
    "df = pd.read_parquet(NOTEBOOK_PARAMS[\"clickstream\"])\n",
    "df = df.head(NOTEBOOK_PARAMS[\"df_limit\"])"
   ]
  },
  {
   "cell_type": "code",
   "execution_count": 14,
   "id": "4b9b6966-efcb-402e-b96d-c2a25b26c451",
   "metadata": {},
   "outputs": [],
   "source": [
    "df['is_train'] = (\n",
    "    df['event_date'] < df['event_date'].max() - pd.Timedelta('2 day')\n",
    ")\n",
    "\n",
    "df['names'] = df['node_id'].map(node2name)"
   ]
  },
  {
   "cell_type": "code",
   "execution_count": 15,
   "id": "88a64aab-a44e-400f-93e7-ef0fb2646b9d",
   "metadata": {},
   "outputs": [
    {
     "name": "stdout",
     "output_type": "stream",
     "text": [
      "Train shape: (96611, 7)\n",
      "Val   shape: (3333, 7)\n"
     ]
    }
   ],
   "source": [
    "train_cooks = df[df['is_train']]['cookie_id'].unique()\n",
    "train_items = df[df['is_train']]['node_id'].unique()\n",
    "\n",
    "df = df[\n",
    "    (df['cookie_id'].isin(train_cooks))\n",
    "    & \n",
    "    (df['node_id'].isin(train_items))\n",
    "]\n",
    "\n",
    "user_indes, index2user_id = pd.factorize(df['cookie_id'])\n",
    "df.loc[:, 'user_index'] = user_indes\n",
    "\n",
    "node_indes, index2node = pd.factorize(df['node_id'])\n",
    "df.loc[:, 'node_index'] = node_indes\n",
    "\n",
    "df_train, df_val = df[df['is_train']], df[~df['is_train']]\n",
    "df_train = df_train.reset_index(drop=True)\n",
    "df_val = df_val.reset_index(drop=True)\n",
    "\n",
    "print(\n",
    "    f'Train shape: {df_train.shape}\\n'\n",
    "    f'Val   shape: {df_val.shape}'\n",
    ")"
   ]
  },
  {
   "cell_type": "code",
   "execution_count": 16,
   "id": "6508579d-442c-4a8d-bf60-501a5f525655",
   "metadata": {},
   "outputs": [],
   "source": [
    "user2seen = df_train.groupby('user_index')['node_index'].agg(\n",
    "    lambda x: list(set(x))\n",
    ")"
   ]
  },
  {
   "cell_type": "code",
   "execution_count": 17,
   "id": "cba39e81-8547-40b9-ad8a-d316e68e3ece",
   "metadata": {},
   "outputs": [
    {
     "data": {
      "text/html": [
       "<div>\n",
       "<style scoped>\n",
       "    .dataframe tbody tr th:only-of-type {\n",
       "        vertical-align: middle;\n",
       "    }\n",
       "\n",
       "    .dataframe tbody tr th {\n",
       "        vertical-align: top;\n",
       "    }\n",
       "\n",
       "    .dataframe thead th {\n",
       "        text-align: right;\n",
       "    }\n",
       "</style>\n",
       "<table border=\"1\" class=\"dataframe\">\n",
       "  <thead>\n",
       "    <tr style=\"text-align: right;\">\n",
       "      <th></th>\n",
       "      <th>cookie_id</th>\n",
       "      <th>event_date</th>\n",
       "      <th>node_id</th>\n",
       "      <th>is_train</th>\n",
       "      <th>names</th>\n",
       "      <th>user_index</th>\n",
       "      <th>node_index</th>\n",
       "    </tr>\n",
       "  </thead>\n",
       "  <tbody>\n",
       "    <tr>\n",
       "      <th>53975</th>\n",
       "      <td>19993538968</td>\n",
       "      <td>2024-04-02 09:45:56</td>\n",
       "      <td>1047673</td>\n",
       "      <td>True</td>\n",
       "      <td>root -&gt; Животные -&gt; Собаки -&gt; Другая</td>\n",
       "      <td>913</td>\n",
       "      <td>966</td>\n",
       "    </tr>\n",
       "    <tr>\n",
       "      <th>12309</th>\n",
       "      <td>19804761698</td>\n",
       "      <td>2024-03-13 12:41:44</td>\n",
       "      <td>1047771</td>\n",
       "      <td>True</td>\n",
       "      <td>root -&gt; Для дома и дачи -&gt; Бытовая техника -&gt; ...</td>\n",
       "      <td>186</td>\n",
       "      <td>50</td>\n",
       "    </tr>\n",
       "    <tr>\n",
       "      <th>56610</th>\n",
       "      <td>20001538546</td>\n",
       "      <td>2024-04-13 11:25:34</td>\n",
       "      <td>1054312</td>\n",
       "      <td>True</td>\n",
       "      <td>root -&gt; Хобби и отдых -&gt; Спорт и отдых -&gt; Туризм</td>\n",
       "      <td>962</td>\n",
       "      <td>369</td>\n",
       "    </tr>\n",
       "    <tr>\n",
       "      <th>5343</th>\n",
       "      <td>19780011687</td>\n",
       "      <td>2024-03-12 03:28:59</td>\n",
       "      <td>1158205</td>\n",
       "      <td>True</td>\n",
       "      <td>root -&gt; Для дома и дачи -&gt; Ремонт и строительс...</td>\n",
       "      <td>98</td>\n",
       "      <td>222</td>\n",
       "    </tr>\n",
       "    <tr>\n",
       "      <th>2360</th>\n",
       "      <td>19768262116</td>\n",
       "      <td>2024-04-05 11:02:25</td>\n",
       "      <td>1054821</td>\n",
       "      <td>True</td>\n",
       "      <td>root -&gt; Недвижимость -&gt; Дома, дачи, коттеджи -...</td>\n",
       "      <td>52</td>\n",
       "      <td>244</td>\n",
       "    </tr>\n",
       "  </tbody>\n",
       "</table>\n",
       "</div>"
      ],
      "text/plain": [
       "         cookie_id          event_date  node_id  is_train  \\\n",
       "53975  19993538968 2024-04-02 09:45:56  1047673      True   \n",
       "12309  19804761698 2024-03-13 12:41:44  1047771      True   \n",
       "56610  20001538546 2024-04-13 11:25:34  1054312      True   \n",
       "5343   19780011687 2024-03-12 03:28:59  1158205      True   \n",
       "2360   19768262116 2024-04-05 11:02:25  1054821      True   \n",
       "\n",
       "                                                   names  user_index  \\\n",
       "53975               root -> Животные -> Собаки -> Другая         913   \n",
       "12309  root -> Для дома и дачи -> Бытовая техника -> ...         186   \n",
       "56610   root -> Хобби и отдых -> Спорт и отдых -> Туризм         962   \n",
       "5343   root -> Для дома и дачи -> Ремонт и строительс...          98   \n",
       "2360   root -> Недвижимость -> Дома, дачи, коттеджи -...          52   \n",
       "\n",
       "       node_index  \n",
       "53975         966  \n",
       "12309          50  \n",
       "56610         369  \n",
       "5343          222  \n",
       "2360          244  "
      ]
     },
     "execution_count": 17,
     "metadata": {},
     "output_type": "execute_result"
    }
   ],
   "source": [
    "df_train.sample(5)"
   ]
  },
  {
   "cell_type": "markdown",
   "id": "07aed4a3-b53b-422f-8796-75d18adb40f4",
   "metadata": {
    "scrolled": true
   },
   "source": [
    "# Baseline (LFM)"
   ]
  },
  {
   "cell_type": "code",
   "execution_count": 49,
   "id": "a85f534f-f076-4548-9985-17fb2f0a4281",
   "metadata": {},
   "outputs": [],
   "source": [
    "RUN_PARAMS = {\n",
    "    \"batch_size\": 50_000,\n",
    "    \"n_negatives\": 5,\n",
    "    \"edim\": 128,\n",
    "    \"n_epochs\": 10,\n",
    "    \"optimizer_name\": \"Adam\",\n",
    "    \"learning_rate\": 1,\n",
    "    \"n_workers\": 0,\n",
    "    \"K\": 30,\n",
    "}"
   ]
  },
  {
   "cell_type": "code",
   "execution_count": null,
   "id": "f5a6c714-9c4d-4020-bc02-3e657e202992",
   "metadata": {},
   "outputs": [],
   "source": [
    "train_dataset = RecDataset(\n",
    "    df_train['user_index'].values, \n",
    "    df_train['node_index'].values, \n",
    "    user2seen,\n",
    ")\n",
    "\n",
    "dataloader = DataLoader(\n",
    "    train_dataset, \n",
    "    shuffle=True, \n",
    "    num_workers=RUN_PARAMS[\"n_workers\"],\n",
    "    batch_size=RUN_PARAMS[\"batch_size\"],\n",
    "    collate_fn=lambda batch: collate_fn(\n",
    "        batch=batch, \n",
    "        num_negatives=RUN_PARAMS[\"n_negatives\"], \n",
    "        num_items=df['node_index'].max(),\n",
    "    ),\n",
    ")"
   ]
  },
  {
   "cell_type": "code",
   "execution_count": null,
   "id": "e73cfa98-545f-4230-a8e3-14195860581d",
   "metadata": {
    "scrolled": true
   },
   "outputs": [],
   "source": [
    "model = LatentFactorModel(\n",
    "    RUN_PARAMS[\"edim\"], user_indes, node_indes,\n",
    ")\n",
    "\n",
    "optimizers = {\n",
    "    \"Adam\": torch.optim.Adam(model.parameters(), RUN_PARAMS[\"learning_rate\"]),\n",
    "    \"SGD\": torch.optim.SGD(model.parameters(), RUN_PARAMS[\"learning_rate\"]),\n",
    "    \"RMSprop\": torch.optim.RMSprop(model.parameters(), RUN_PARAMS[\"learning_rate\"]),\n",
    "    \"LBFGS\": torch.optim.LBFGS(model.parameters(), RUN_PARAMS[\"learning_rate\"]),\n",
    "    \"Adagrad\": torch.optim.Adagrad(model.parameters(), RUN_PARAMS[\"learning_rate\"]),\n",
    "}\n",
    "\n",
    "optimizer = optimizers[RUN_PARAMS[\"optimizer_name\"]]"
   ]
  },
  {
   "cell_type": "code",
   "execution_count": null,
   "id": "4819823d-a5ff-4ab0-b610-a12e201ed796",
   "metadata": {},
   "outputs": [],
   "source": [
    "epoch_bar = tqdm(range(RUN_PARAMS[\"n_epochs\"]))\n",
    "\n",
    "metrics = {\n",
    "    \"losses\": [],\n",
    "    \"hitrate\": [],\n",
    "    \"precision\": [],\n",
    "}\n",
    "\n",
    "for epoch in epoch_bar:    \n",
    "    metrics[\"loader_losses\"] = []\n",
    "    model.train()\n",
    "    for (users, items, labels) in dataloader:\n",
    "        optimizer.zero_grad()\n",
    "        logits = model(users, items)\n",
    "        loss = torch.nn.functional.binary_cross_entropy_with_logits(\n",
    "            logits, labels,\n",
    "        )\n",
    "        loss.backward()\n",
    "        optimizer.step()\n",
    "\n",
    "        loader_loss = loss.item()\n",
    "        metrics[\"loader_losses\"].append(loader_loss)\n",
    "\n",
    "    # Metrics\n",
    "    with torch.no_grad():\n",
    "        model.eval()\n",
    "        df_preds = get_preds(model, df_val, RUN_PARAMS)\n",
    "        epoch_loss = sum(metrics[\"loader_losses\"]) / len(metrics[\"loader_losses\"])\n",
    "        hitrate = calculate_hitrate(df_preds, RUN_PARAMS[\"K\"])\n",
    "        precision = calculate_precision(df_preds, RUN_PARAMS[\"K\"])\n",
    "\n",
    "    del df_preds\n",
    "    \n",
    "    metrics[\"losses\"].append(epoch_loss)\n",
    "    metrics[\"hitrate\"].append(hitrate)\n",
    "    metrics[\"precision\"].append(precision)\n",
    "    \n",
    "    epoch_bar.set_description(f\"EPOCH LOSS = {epoch_loss:.4f}\")\n",
    "    fig = plot(metrics)"
   ]
  },
  {
   "cell_type": "code",
   "execution_count": null,
   "id": "c1395472-65dc-47f4-858f-d8e6cbc85a20",
   "metadata": {},
   "outputs": [],
   "source": [
    "with mlflow.start_run(run_name=\"baseline_LFM\"):\n",
    "    for param, value in NOTEBOOK_PARAMS.items():\n",
    "        mlflow.log_param(param, value)\n",
    "\n",
    "    for param, value in RUN_PARAMS.items():\n",
    "        mlflow.log_param(param, value)\n",
    "\n",
    "    df_preds = get_preds(model, df_val, RUN_PARAMS)\n",
    "    hitrate = calculate_hitrate(df_preds, RUN_PARAMS[\"K\"])\n",
    "    precision = calculate_precision(df_preds, RUN_PARAMS[\"K\"])\n",
    "    print(f\"Hitrate: {hitrate:.4f} | Precision: {precision:.4f}\")\n",
    "\n",
    "    mlflow.log_metrics(\n",
    "        {\n",
    "            'hitrate': hitrate,\n",
    "            'precision': precision, \n",
    "        }\n",
    "    )\n",
    "    mlflow.log_artifact(NOTEBOOK_PARAMS[\"notebook_path\"])\n",
    "    mlflow.log_figure(fig, \"metrics.png\")"
   ]
  },
  {
   "cell_type": "markdown",
   "id": "a51627f8-8a3d-4ae8-a209-1be718175cd1",
   "metadata": {},
   "source": [
    "# Baseline (top-popular)"
   ]
  },
  {
   "cell_type": "code",
   "execution_count": null,
   "id": "43cc796e-1235-47f1-8466-a59755569010",
   "metadata": {},
   "outputs": [],
   "source": [
    "top_popular = (\n",
    "    df_train[['node_index']]\n",
    "    .assign(v=1)\n",
    "    .groupby('node_index')\n",
    "    .count()\n",
    "    .reset_index()\n",
    "    .sort_values(by='v')\n",
    "    .tail(RUN_PARAMS[\"K\"])['node_index'].values\n",
    ")"
   ]
  },
  {
   "cell_type": "code",
   "execution_count": null,
   "id": "c88a32e5-f0ca-483f-85e6-da90d3d16799",
   "metadata": {},
   "outputs": [],
   "source": [
    "users = df_val['user_index'].unique()\n",
    "df_preds_top_poplular = pd.DataFrame({\n",
    "    'node_index': [list(top_popular) for i in users], \n",
    "    'user_index': users, \n",
    "    'rank': [\n",
    "        [j for j in range(0, RUN_PARAMS[\"K\"])]\n",
    "        for i in range(len(users))\n",
    "    ]\n",
    "})\n",
    "\n",
    "df_preds_top_poplular = df_preds_top_poplular.explode([\n",
    "    'node_index', 'rank',\n",
    "]).merge(\n",
    "    df_val[['user_index', 'node_index']].assign(relevant=1).drop_duplicates(),\n",
    "    on=['user_index', 'node_index'],\n",
    "    how='left',\n",
    ")\n",
    "df_preds_top_poplular['relevant'] = df_preds_top_poplular['relevant'].fillna(0)"
   ]
  },
  {
   "cell_type": "code",
   "execution_count": null,
   "id": "4a42c346-6dc9-499a-8b09-5a8d88b6fbbf",
   "metadata": {},
   "outputs": [],
   "source": [
    "with mlflow.start_run(run_name=\"baseline_top_popular\"):\n",
    "    for param, value in NOTEBOOK_PARAMS.items():\n",
    "        mlflow.log_param(param, value)\n",
    "\n",
    "    for param, value in RUN_PARAMS.items():\n",
    "        mlflow.log_param(param, None)\n",
    "\n",
    "    hitrate = calculate_hitrate(df_preds_top_poplular, RUN_PARAMS[\"K\"])\n",
    "    precision = calculate_precision(df_preds_top_poplular, RUN_PARAMS[\"K\"])\n",
    "    print(f\"Hitrate: {hitrate:.4f} | Precision: {precision:.4f}\")\n",
    "\n",
    "    mlflow.log_metrics(\n",
    "        {\n",
    "            'hitrate': hitrate,\n",
    "            'precision': precision, \n",
    "        }\n",
    "    )\n",
    "    mlflow.log_artifact(NOTEBOOK_PARAMS[\"notebook_path\"])\n",
    "    mlflow.log_figure(fig, \"metrics.png\")"
   ]
  },
  {
   "cell_type": "markdown",
   "id": "53179539-b871-44c9-b381-4c6a4df7c597",
   "metadata": {},
   "source": [
    "# Experiments"
   ]
  },
  {
   "cell_type": "code",
   "execution_count": 56,
   "id": "f53e788e-fa4e-4b6e-a431-c4274f07cbaa",
   "metadata": {},
   "outputs": [],
   "source": [
    "def run(\n",
    "    batch_size, n_negatives, edim, n_epochs, \n",
    "    optimizer_name, learning_rate, n_trials,\n",
    "    run_name: str = \"baseline\",\n",
    ") -> float:\n",
    "    run_params = {\n",
    "        \"batch_size\": batch_size,\n",
    "        \"n_negatives\": n_negatives,\n",
    "        \"edim\": edim,\n",
    "        \"n_epochs\": n_epochs,\n",
    "        \"optimizer_name\": optimizer_name,\n",
    "        \"learning_rate\": learning_rate,\n",
    "        \"n_workers\": 0,\n",
    "        \"K\": 30,\n",
    "        \"n_trials\": n_trials,\n",
    "    }\n",
    "    train_dataset = RecDataset(\n",
    "        df_train['user_index'].values, \n",
    "        df_train['node_index'].values, \n",
    "        user2seen,\n",
    "    )\n",
    "    \n",
    "    dataloader = DataLoader(\n",
    "        train_dataset, \n",
    "        shuffle=True, \n",
    "        num_workers=run_params[\"n_workers\"],\n",
    "        batch_size=run_params[\"batch_size\"],\n",
    "        collate_fn=lambda batch: collate_fn(\n",
    "            batch=batch, \n",
    "            num_negatives=run_params[\"n_negatives\"], \n",
    "            num_items=df['node_index'].max(),\n",
    "        ),\n",
    "    )\n",
    "    \n",
    "    model = LatentFactorModel(\n",
    "        run_params[\"edim\"], user_indes, node_indes,\n",
    "    )\n",
    "    optimizers = {\n",
    "        \"Adam\": torch.optim.Adam(model.parameters(), run_params[\"learning_rate\"]),\n",
    "        \"SGD\": torch.optim.SGD(model.pbarameters(), run_params[\"learning_rate\"]),\n",
    "        \"RMSprop\": torch.optim.RMSprop(model.parameters(), run_params[\"learning_rate\"]),\n",
    "        \"AdamW\": torch.optim.AdamW(model.parameters(), run_params[\"learning_rate\"]),\n",
    "        \"Adagrad\": torch.optim.Adagrad(model.parameters(), run_params[\"learning_rate\"]),\n",
    "    }\n",
    "    optimizer = optimizers[run_params[\"optimizer_name\"]]\n",
    "\n",
    "    print(run_params)\n",
    "    \n",
    "    epoch_bar = tqdm(range(run_params[\"n_epochs\"]))\n",
    "    metrics = {\n",
    "        \"losses\": [],\n",
    "        \"hitrate\": [],\n",
    "        \"precision\": [],\n",
    "    }\n",
    "    \n",
    "    for epoch in epoch_bar:    \n",
    "        metrics[\"loader_losses\"] = []\n",
    "        model.train()\n",
    "        for (users, items, labels) in dataloader:\n",
    "            optimizer.zero_grad()\n",
    "            logits = model(users, items)\n",
    "            loss = torch.nn.functional.binary_cross_entropy_with_logits(\n",
    "                logits, labels,\n",
    "            )\n",
    "            loss.backward()\n",
    "            optimizer.step()\n",
    "    \n",
    "            loader_loss = loss.item()\n",
    "            metrics[\"loader_losses\"].append(loader_loss)\n",
    "    \n",
    "        # Metrics\n",
    "        with torch.no_grad():\n",
    "            model.eval()\n",
    "            df_preds = get_preds(model, df_val, run_params)\n",
    "            epoch_loss = sum(metrics[\"loader_losses\"]) / len(metrics[\"loader_losses\"])\n",
    "            hitrate = calculate_hitrate(df_preds, run_params[\"K\"])\n",
    "            precision = calculate_precision(df_preds, run_params[\"K\"])\n",
    "    \n",
    "        del df_preds\n",
    "        \n",
    "        metrics[\"losses\"].append(epoch_loss)\n",
    "        metrics[\"hitrate\"].append(hitrate)\n",
    "        metrics[\"precision\"].append(precision)\n",
    "        \n",
    "        epoch_bar.set_description(f\"EPOCH LOSS = {epoch_loss:.4f}\")\n",
    "        fig = plot(metrics)\n",
    "\n",
    "    with mlflow.start_run(run_name=run_name):\n",
    "        for param, value in NOTEBOOK_PARAMS.items():\n",
    "            mlflow.log_param(param, value)\n",
    "    \n",
    "        for param, value in run_params.items():\n",
    "            mlflow.log_param(param, value)\n",
    "\n",
    "        with torch.no_grad():\n",
    "            model.eval()\n",
    "            df_preds = get_preds(model, df_val, run_params)\n",
    "            \n",
    "        hitrate = calculate_hitrate(df_preds, run_params[\"K\"])\n",
    "        precision = calculate_precision(df_preds, run_params[\"K\"])\n",
    "        print(f\"Hitrate: {hitrate:.4f} | Precision: {precision:.4f}\")\n",
    "    \n",
    "        mlflow.log_metrics(\n",
    "            {\n",
    "                'hitrate': hitrate,\n",
    "                'precision': precision, \n",
    "            }\n",
    "        )\n",
    "        mlflow.log_artifact(NOTEBOOK_PARAMS[\"notebook_path\"])\n",
    "        mlflow.log_figure(fig, \"metrics.png\")\n",
    "\n",
    "    return precision"
   ]
  },
  {
   "cell_type": "code",
   "execution_count": 52,
   "id": "f287e38b-50e4-4477-99e5-e65dc48a56f8",
   "metadata": {},
   "outputs": [
    {
     "data": {
      "image/png": "[encoded data removed]",
      "text/plain": [
       "<Figure size 1800x500 with 3 Axes>"
      ]
     },
     "metadata": {},
     "output_type": "display_data"
    },
    {
     "name": "stderr",
     "output_type": "stream",
     "text": [
      "EPOCH LOSS = 0.3476: 100%|██████████████████████| 10/10 [00:53<00:00,  5.31s/it]\n"
     ]
    },
    {
     "name": "stdout",
     "output_type": "stream",
     "text": [
      "Hitrate: 0.6957 | Precision: 0.0421\n"
     ]
    }
   ],
   "source": [
    "# Repeat baseline\n",
    "seed_everything(NOTEBOOK_PARAMS[\"seed\"])\n",
    "precision = run(\n",
    "    batch_size=RUN_PARAMS[\"batch_size\"], \n",
    "    n_negatives=RUN_PARAMS[\"n_negatives\"], \n",
    "    edim=RUN_PARAMS[\"edim\"], \n",
    "    n_epochs=RUN_PARAMS[\"n_epochs\"], \n",
    "    optimizer_name=RUN_PARAMS[\"optimizer_name\"], \n",
    "    learning_rate=RUN_PARAMS[\"learning_rate\"], \n",
    "    n_trials=N_TRIALS,\n",
    "    run_name='baseline',\n",
    ")"
   ]
  },
  {
   "cell_type": "code",
   "execution_count": 60,
   "id": "de57ad0c-7d92-46f0-98a6-597151a712c2",
   "metadata": {},
   "outputs": [],
   "source": [
    "N_TRIALS = 50"
   ]
  },
  {
   "cell_type": "code",
   "execution_count": 61,
   "id": "ea5a8db4-789b-4e31-8be7-ec389ddd23e4",
   "metadata": {},
   "outputs": [],
   "source": [
    "def objective(trial) -> float:\n",
    "    seed_everything(NOTEBOOK_PARAMS[\"seed\"])\n",
    "    batch_size = trial.suggest_categorical('batch_size', [5000, 10000, 30000, 50000])\n",
    "    learning_rate = trial.suggest_loguniform('learning_rate', 1e-2, 10)\n",
    "    n_negatives = trial.suggest_int('n_negatives', 1, 10)\n",
    "    edim = trial.suggest_int('edim', 32, 256)\n",
    "    n_epochs = trial.suggest_int('n_epochs', 5, 30)\n",
    "    optimizer_name = trial.suggest_categorical(\"optimizer_name\", [\n",
    "        \"Adam\", \"SGD\", \"RMSprop\", \"AdamW\", \"Adagrad\",\n",
    "    ])\n",
    "    \n",
    "    precision = run(\n",
    "        batch_size=batch_size, \n",
    "        n_negatives=n_negatives, \n",
    "        edim=edim, \n",
    "        n_epochs=n_epochs, \n",
    "        optimizer_name=optimizer_name, \n",
    "        learning_rate=learning_rate, \n",
    "        n_trials=N_TRIALS,\n",
    "        run_name='LFM_optuna',\n",
    "    )\n",
    "    return precision"
   ]
  },
  {
   "cell_type": "code",
   "execution_count": 62,
   "id": "bc720c60-77f7-45f3-a91a-7d2dbe38bcb3",
   "metadata": {},
   "outputs": [
    {
     "data": {
      "image/png": "[encoded data removed]",
      "text/plain": [
       "<Figure size 1800x500 with 3 Axes>"
      ]
     },
     "metadata": {},
     "output_type": "display_data"
    },
    {
     "name": "stderr",
     "output_type": "stream",
     "text": [
      "EPOCH LOSS = 0.0028: 100%|██████████████████████| 24/24 [01:55<00:00,  4.79s/it]\n"
     ]
    },
    {
     "name": "stdout",
     "output_type": "stream",
     "text": [
      "Hitrate: 0.7331 | Precision: 0.0485\n"
     ]
    },
    {
     "name": "stderr",
     "output_type": "stream",
     "text": [
      "[I 2024-05-29 01:45:46,356] Trial 49 finished with value: 0.048525737131434286 and parameters: {'batch_size': 5000, 'learning_rate': 0.10685530971733402, 'n_negatives': 4, 'edim': 170, 'n_epochs': 24, 'optimizer_name': 'AdamW'}. Best is trial 43 with value: 0.049625187406296845.\n"
     ]
    }
   ],
   "source": [
    "study = optuna.create_study(direction='maximize')\n",
    "study.optimize(objective, n_trials=N_TRIALS)"
   ]
  },
  {
   "cell_type": "markdown",
   "id": "1fb3e3c8-8508-4c37-a9ae-9c5279b75f1c",
   "metadata": {},
   "source": [
    "# ALS Model"
   ]
  },
  {
   "cell_type": "code",
   "execution_count": 19,
   "id": "13a39b67-7da8-46a2-a9b4-1e9a615a8050",
   "metadata": {},
   "outputs": [
    {
     "name": "stdout",
     "output_type": "stream",
     "text": [
      "Collecting implicit\n",
      "  Downloading implicit-0.7.2-cp310-cp310-manylinux2014_x86_64.whl.metadata (6.1 kB)\n",
      "Requirement already satisfied: numpy>=1.17.0 in /home/user/.pyenv/versions/3.10.9/lib/python3.10/site-packages (from implicit) (1.26.4)\n",
      "Requirement already satisfied: scipy>=0.16 in /home/user/.pyenv/versions/3.10.9/lib/python3.10/site-packages (from implicit) (1.13.0)\n",
      "Requirement already satisfied: tqdm>=4.27 in /home/user/.pyenv/versions/3.10.9/lib/python3.10/site-packages (from implicit) (4.66.4)\n",
      "Requirement already satisfied: threadpoolctl in /home/user/.pyenv/versions/3.10.9/lib/python3.10/site-packages (from implicit) (3.4.0)\n",
      "Downloading implicit-0.7.2-cp310-cp310-manylinux2014_x86_64.whl (8.9 MB)\n",
      "\u001b[2K   \u001b[38;2;114;156;31m━━━━━━━━━━━━━━━━━━━━━━━━━━━━━━━━━━━━━━━━\u001b[0m \u001b[32m8.9/8.9 MB\u001b[0m \u001b[31m6.8 MB/s\u001b[0m eta \u001b[36m0:00:00\u001b[0mm eta \u001b[36m0:00:01\u001b[0m[36m0:00:01\u001b[0m\n",
      "\u001b[?25hInstalling collected packages: implicit\n",
      "Successfully installed implicit-0.7.2\n"
     ]
    }
   ],
   "source": [
    "!pip install implicit"
   ]
  },
  {
   "cell_type": "code",
   "execution_count": 177,
   "id": "abaed77f-0c20-459f-bc81-ed9aa5d49bae",
   "metadata": {},
   "outputs": [],
   "source": [
    "import numpy as np\n",
    "from scipy.sparse import csr_matrix\n",
    "from implicit.als import AlternatingLeastSquares"
   ]
  },
  {
   "cell_type": "code",
   "execution_count": 308,
   "id": "08eea013-ec42-4578-87c8-0134e7e8c210",
   "metadata": {},
   "outputs": [],
   "source": [
    "run_params = {\n",
    "    \"factors\": 100,\n",
    "    \"regularization\": 0.01,\n",
    "    \"iterations\": 15,\n",
    "    \"alpha\": 2.0,\n",
    "    \"n_negatives\": 3,\n",
    "    \"n_workers\": 0,\n",
    "    \"K\": 30,\n",
    "}"
   ]
  },
  {
   "cell_type": "code",
   "execution_count": 406,
   "id": "059fef82-1d3e-42d9-bc25-05bf7e573ffa",
   "metadata": {},
   "outputs": [],
   "source": [
    "train_dataset = RecDataset(\n",
    "    df_train['user_index'].values, \n",
    "    df_train['node_index'].values, \n",
    "    user2seen,\n",
    ")\n",
    "\n",
    "dataloader = DataLoader(\n",
    "    train_dataset, \n",
    "    shuffle=True, \n",
    "    num_workers=run_params[\"n_workers\"],\n",
    "    batch_size=len(train_dataset),\n",
    "    collate_fn=lambda batch: collate_fn(\n",
    "        batch=batch, \n",
    "        num_negatives=run_params[\"n_negatives\"], \n",
    "        num_items=df['node_index'].max(),\n",
    "    ),\n",
    ")\n",
    "users, items, labels = next(iter(dataloader))"
   ]
  },
  {
   "cell_type": "code",
   "execution_count": 415,
   "id": "e6c69a2c-9ce2-491d-a0c5-e62da521c458",
   "metadata": {},
   "outputs": [],
   "source": [
    "class ALSModel(nn.Module):\n",
    "    def __init__(self, factors, regularization, iterations, alpha):\n",
    "        super(ALSModel, self).__init__()\n",
    "        self.model = AlternatingLeastSquares(\n",
    "            factors=factors,\n",
    "            regularization=regularization,\n",
    "            iterations=iterations,\n",
    "            alpha=alpha,\n",
    "        )\n",
    "        self.matrix = None\n",
    "        self.is_train = False\n",
    "\n",
    "    def fit(self, users, items, labels, n_negatives):\n",
    "        labels_ = labels.flatten()\n",
    "        labels_[labels_ == 0] = -1 # dislike\n",
    "        users_ = np.repeat(users, n_negatives + 1)\n",
    "        items_ = items.flatten()\n",
    "        \n",
    "        self.matrix = csr_matrix(\n",
    "            (labels_, (users_, items_)), shape=(len(users_), len(items_))\n",
    "        )\n",
    "        self.model.fit(self.matrix)\n",
    "        self.is_train = True\n",
    "\n",
    "    def pred_top_k(self, user_id, K: int = 30):\n",
    "        if not self.is_train:\n",
    "            raise ValueError(\"Model should be trained\")\n",
    "\n",
    "        ids, scores = self.model.recommend(\n",
    "            user_id, self.matrix[user_id], N=K, \n",
    "            filter_already_liked_items=False,\n",
    "        )\n",
    "        res = np.array([scores, ids])\n",
    "        return torch.tensor(res)"
   ]
  },
  {
   "cell_type": "code",
   "execution_count": 416,
   "id": "734a4908-f83d-4428-9127-eabcaab2b764",
   "metadata": {},
   "outputs": [],
   "source": [
    "model = ALSModel(\n",
    "    factors=run_params[\"factors\"], \n",
    "    regularization=run_params[\"regularization\"], \n",
    "    iterations=run_params[\"iterations\"],\n",
    "    alpha=run_params[\"alpha\"],\n",
    ")"
   ]
  },
  {
   "cell_type": "code",
   "execution_count": 417,
   "id": "2b3d9795-bc80-4c82-b4ea-dad575305e53",
   "metadata": {},
   "outputs": [
    {
     "data": {
      "application/vnd.jupyter.widget-view+json": {
       "model_id": "6191f0c0b08349b2aaeec6611e9bec68",
       "version_major": 2,
       "version_minor": 0
      },
      "text/plain": [
       "  0%|          | 0/15 [00:00<?, ?it/s]"
      ]
     },
     "metadata": {},
     "output_type": "display_data"
    }
   ],
   "source": [
    "model.fit(users, items, labels, run_params[\"n_negatives\"])"
   ]
  },
  {
   "cell_type": "code",
   "execution_count": 420,
   "id": "fd6c3914-0aab-4fcc-82e2-d0a74024c34a",
   "metadata": {},
   "outputs": [
    {
     "name": "stdout",
     "output_type": "stream",
     "text": [
      "Hitrate: 0.7391 | Precision: 0.0506\n"
     ]
    }
   ],
   "source": [
    "df_preds = get_preds(model, df_val, run_params)\n",
    "hitrate = calculate_hitrate(df_preds, run_params[\"K\"])\n",
    "precision = calculate_precision(df_preds, run_params[\"K\"])\n",
    "print(f\"Hitrate: {hitrate:.4f} | Precision: {precision:.4f}\")"
   ]
  },
  {
   "cell_type": "markdown",
   "id": "b1c83246-2bbb-4e87-aa95-d09179db2d4a",
   "metadata": {},
   "source": [
    "# ALS Pipeline"
   ]
  },
  {
   "cell_type": "code",
   "execution_count": 421,
   "id": "1bc64d03-94b6-4436-a875-1efd8415b4e3",
   "metadata": {},
   "outputs": [],
   "source": [
    "def run_als(\n",
    "    factors, regularization, iterations, n_trials,\n",
    "    n_negatives, alpha,\n",
    "    run_name: str = \"baseline\",\n",
    ") -> float:\n",
    "    run_params = {\n",
    "        \"factors\": factors,\n",
    "        \"regularization\": regularization,\n",
    "        \"iterations\": iterations,\n",
    "        \"alpha\": alpha,\n",
    "        \"n_negatives\": n_negatives,\n",
    "        \"n_workers\": 0,\n",
    "        \"K\": 30,\n",
    "        \"n_trials\": n_trials,\n",
    "    }\n",
    "\n",
    "    print(run_params)\n",
    "    model = ALSModel(\n",
    "        factors=run_params[\"factors\"], \n",
    "        regularization=run_params[\"regularization\"], \n",
    "        iterations=run_params[\"iterations\"],\n",
    "        alpha=run_params[\"alpha\"],\n",
    "    )\n",
    "    \n",
    "    dataloader = DataLoader(\n",
    "        train_dataset, \n",
    "        shuffle=True, \n",
    "        num_workers=run_params[\"n_workers\"],\n",
    "        batch_size=len(train_dataset),\n",
    "        collate_fn=lambda batch: collate_fn(\n",
    "            batch=batch, \n",
    "            num_negatives=run_params[\"n_negatives\"], \n",
    "            num_items=df['node_index'].max(),\n",
    "        ),\n",
    "    )\n",
    "    users, items, labels = next(iter(dataloader))\n",
    "    model.fit(users, items, labels, run_params[\"n_negatives\"])\n",
    "\n",
    "    with mlflow.start_run(run_name=run_name):\n",
    "        for param, value in NOTEBOOK_PARAMS.items():\n",
    "            mlflow.log_param(param, value)\n",
    "    \n",
    "        for param, value in run_params.items():\n",
    "            mlflow.log_param(param, value)\n",
    "\n",
    "        with torch.no_grad():\n",
    "            model.eval()\n",
    "            df_preds = get_preds(model, df_val, run_params)\n",
    "            \n",
    "        hitrate = calculate_hitrate(df_preds, run_params[\"K\"])\n",
    "        precision = calculate_precision(df_preds, run_params[\"K\"])\n",
    "        print(f\"Hitrate: {hitrate:.4f} | Precision: {precision:.4f}\")\n",
    "    \n",
    "        mlflow.log_metrics(\n",
    "            {\n",
    "                'hitrate': hitrate,\n",
    "                'precision': precision, \n",
    "            }\n",
    "        )\n",
    "        mlflow.log_artifact(NOTEBOOK_PARAMS[\"notebook_path\"])\n",
    "\n",
    "    return precision"
   ]
  },
  {
   "cell_type": "code",
   "execution_count": 422,
   "id": "cee50d2e-001e-4185-893d-1b1311c2c758",
   "metadata": {},
   "outputs": [],
   "source": [
    "N_TRIALS = 50"
   ]
  },
  {
   "cell_type": "code",
   "execution_count": 423,
   "id": "b1b76026-d78c-4d2d-9345-f084dd5f9020",
   "metadata": {},
   "outputs": [],
   "source": [
    "def objective(trial) -> float:\n",
    "    seed_everything(NOTEBOOK_PARAMS[\"seed\"])\n",
    "    factors = trial.suggest_int('factors', 10, 300)\n",
    "    regularization = trial.suggest_float('regularization', 1e-3, 5)\n",
    "    iterations = trial.suggest_int('iterations', 10, 50)\n",
    "    n_negatives = trial.suggest_int('n_negatives', 1, 10)\n",
    "    alpha = trial.suggest_float(\"alpha\", 0.1, 15)\n",
    "    \n",
    "    precision = run_als(\n",
    "        factors=factors,\n",
    "        regularization=regularization,\n",
    "        iterations=iterations,\n",
    "        n_negatives=n_negatives, \n",
    "        alpha=alpha,\n",
    "        n_trials=N_TRIALS,\n",
    "        run_name='ALS_optuna',\n",
    "    )\n",
    "    return precision"
   ]
  },
  {
   "cell_type": "code",
   "execution_count": 424,
   "id": "7b2b62f7-689d-494c-a7e0-909d5d10f738",
   "metadata": {},
   "outputs": [
    {
     "name": "stderr",
     "output_type": "stream",
     "text": [
      "[I 2024-05-30 00:51:06,470] A new study created in memory with name: no-name-8d0cec72-3adc-4c01-9204-0d0c43808d84\n"
     ]
    },
    {
     "name": "stdout",
     "output_type": "stream",
     "text": [
      "{'factors': 39, 'regularization': 0.4444684515351507, 'iterations': 44, 'alpha': 2.038106838846606, 'n_negatives': 1, 'n_workers': 0, 'K': 30, 'n_trials': 50}\n"
     ]
    },
    {
     "data": {
      "application/vnd.jupyter.widget-view+json": {
       "model_id": "e947ecacd29e4f7da66fff6c8954fdd2",
       "version_major": 2,
       "version_minor": 0
      },
      "text/plain": [
       "  0%|          | 0/44 [00:00<?, ?it/s]"
      ]
     },
     "metadata": {},
     "output_type": "display_data"
    },
    {
     "name": "stdout",
     "output_type": "stream",
     "text": [
      "Hitrate: 0.7346 | Precision: 0.0478\n"
     ]
    },
    {
     "name": "stderr",
     "output_type": "stream",
     "text": [
      "[I 2024-05-30 00:51:15,450] Trial 0 finished with value: 0.047776111944027984 and parameters: {'factors': 39, 'regularization': 0.4444684515351507, 'iterations': 44, 'n_negatives': 1, 'alpha': 2.038106838846606}. Best is trial 0 with value: 0.047776111944027984.\n"
     ]
    },
    {
     "name": "stdout",
     "output_type": "stream",
     "text": [
      "{'factors': 235, 'regularization': 1.3676744240227217, 'iterations': 43, 'alpha': 8.447884251078609, 'n_negatives': 2, 'n_workers': 0, 'K': 30, 'n_trials': 50}\n"
     ]
    },
    {
     "data": {
      "application/vnd.jupyter.widget-view+json": {
       "model_id": "9f66e0b7e19f45bc942d20037022303a",
       "version_major": 2,
       "version_minor": 0
      },
      "text/plain": [
       "  0%|          | 0/43 [00:00<?, ?it/s]"
      ]
     },
     "metadata": {},
     "output_type": "display_data"
    },
    {
     "name": "stdout",
     "output_type": "stream",
     "text": [
      "Hitrate: 0.7421 | Precision: 0.0510\n"
     ]
    },
    {
     "name": "stderr",
     "output_type": "stream",
     "text": [
      "[I 2024-05-30 00:52:36,467] Trial 1 finished with value: 0.051024487756121936 and parameters: {'factors': 235, 'regularization': 1.3676744240227217, 'iterations': 43, 'n_negatives': 2, 'alpha': 8.447884251078609}. Best is trial 1 with value: 0.051024487756121936.\n"
     ]
    },
    {
     "name": "stdout",
     "output_type": "stream",
     "text": [
      "{'factors': 179, 'regularization': 2.820707914460273, 'iterations': 12, 'alpha': 6.505634530612731, 'n_negatives': 6, 'n_workers': 0, 'K': 30, 'n_trials': 50}\n"
     ]
    },
    {
     "data": {
      "application/vnd.jupyter.widget-view+json": {
       "model_id": "6c5c08f6fb5a40048c6b5b1200b21a62",
       "version_major": 2,
       "version_minor": 0
      },
      "text/plain": [
       "  0%|          | 0/12 [00:00<?, ?it/s]"
      ]
     },
     "metadata": {},
     "output_type": "display_data"
    },
    {
     "name": "stdout",
     "output_type": "stream",
     "text": [
      "Hitrate: 0.7556 | Precision: 0.0513\n"
     ]
    },
    {
     "name": "stderr",
     "output_type": "stream",
     "text": [
      "[I 2024-05-30 00:52:59,043] Trial 2 finished with value: 0.051274362818590706 and parameters: {'factors': 179, 'regularization': 2.820707914460273, 'iterations': 12, 'n_negatives': 6, 'alpha': 6.505634530612731}. Best is trial 2 with value: 0.051274362818590706.\n"
     ]
    },
    {
     "name": "stdout",
     "output_type": "stream",
     "text": [
      "{'factors': 166, 'regularization': 3.16469655370356, 'iterations': 36, 'alpha': 10.667379443839357, 'n_negatives': 2, 'n_workers': 0, 'K': 30, 'n_trials': 50}\n"
     ]
    },
    {
     "data": {
      "application/vnd.jupyter.widget-view+json": {
       "model_id": "95273ec78fe84f5ab34e17d9f80a3919",
       "version_major": 2,
       "version_minor": 0
      },
      "text/plain": [
       "  0%|          | 0/36 [00:00<?, ?it/s]"
      ]
     },
     "metadata": {},
     "output_type": "display_data"
    },
    {
     "name": "stdout",
     "output_type": "stream",
     "text": [
      "Hitrate: 0.7466 | Precision: 0.0513\n"
     ]
    },
    {
     "name": "stderr",
     "output_type": "stream",
     "text": [
      "[I 2024-05-30 00:53:26,553] Trial 3 finished with value: 0.051274362818590706 and parameters: {'factors': 166, 'regularization': 3.16469655370356, 'iterations': 36, 'n_negatives': 2, 'alpha': 10.667379443839357}. Best is trial 2 with value: 0.051274362818590706.\n"
     ]
    },
    {
     "name": "stdout",
     "output_type": "stream",
     "text": [
      "{'factors': 115, 'regularization': 1.409835380132823, 'iterations': 11, 'alpha': 2.323872341859815, 'n_negatives': 4, 'n_workers': 0, 'K': 30, 'n_trials': 50}\n"
     ]
    },
    {
     "data": {
      "application/vnd.jupyter.widget-view+json": {
       "model_id": "942aa3ea22514e28aa9ae97548af1600",
       "version_major": 2,
       "version_minor": 0
      },
      "text/plain": [
       "  0%|          | 0/11 [00:00<?, ?it/s]"
      ]
     },
     "metadata": {},
     "output_type": "display_data"
    },
    {
     "name": "stdout",
     "output_type": "stream",
     "text": [
      "Hitrate: 0.7466 | Precision: 0.0510\n"
     ]
    },
    {
     "name": "stderr",
     "output_type": "stream",
     "text": [
      "[I 2024-05-30 00:53:41,120] Trial 4 finished with value: 0.050974512743628186 and parameters: {'factors': 115, 'regularization': 1.409835380132823, 'iterations': 11, 'n_negatives': 4, 'alpha': 2.323872341859815}. Best is trial 2 with value: 0.051274362818590706.\n"
     ]
    },
    {
     "name": "stdout",
     "output_type": "stream",
     "text": [
      "{'factors': 278, 'regularization': 1.7220183639452824, 'iterations': 29, 'alpha': 9.4695207904608, 'n_negatives': 8, 'n_workers': 0, 'K': 30, 'n_trials': 50}\n"
     ]
    },
    {
     "data": {
      "application/vnd.jupyter.widget-view+json": {
       "model_id": "c5476eb37ee84878861b4c47379803e1",
       "version_major": 2,
       "version_minor": 0
      },
      "text/plain": [
       "  0%|          | 0/29 [00:00<?, ?it/s]"
      ]
     },
     "metadata": {},
     "output_type": "display_data"
    },
    {
     "name": "stdout",
     "output_type": "stream",
     "text": [
      "Hitrate: 0.7496 | Precision: 0.0505\n"
     ]
    },
    {
     "name": "stderr",
     "output_type": "stream",
     "text": [
      "[I 2024-05-30 00:56:18,498] Trial 5 finished with value: 0.05047476261869066 and parameters: {'factors': 278, 'regularization': 1.7220183639452824, 'iterations': 29, 'n_negatives': 8, 'alpha': 9.4695207904608}. Best is trial 2 with value: 0.051274362818590706.\n"
     ]
    },
    {
     "name": "stdout",
     "output_type": "stream",
     "text": [
      "{'factors': 65, 'regularization': 0.9538537940358914, 'iterations': 32, 'alpha': 6.748554049989105, 'n_negatives': 6, 'n_workers': 0, 'K': 30, 'n_trials': 50}\n"
     ]
    },
    {
     "data": {
      "application/vnd.jupyter.widget-view+json": {
       "model_id": "57e46246f1374677b23f5b1f7aee9105",
       "version_major": 2,
       "version_minor": 0
      },
      "text/plain": [
       "  0%|          | 0/32 [00:00<?, ?it/s]"
      ]
     },
     "metadata": {},
     "output_type": "display_data"
    },
    {
     "name": "stdout",
     "output_type": "stream",
     "text": [
      "Hitrate: 0.7421 | Precision: 0.0497\n"
     ]
    },
    {
     "name": "stderr",
     "output_type": "stream",
     "text": [
      "[I 2024-05-30 00:56:39,913] Trial 6 finished with value: 0.04972513743128435 and parameters: {'factors': 65, 'regularization': 0.9538537940358914, 'iterations': 32, 'n_negatives': 6, 'alpha': 6.748554049989105}. Best is trial 2 with value: 0.051274362818590706.\n"
     ]
    },
    {
     "name": "stdout",
     "output_type": "stream",
     "text": [
      "{'factors': 192, 'regularization': 2.680331510883018, 'iterations': 33, 'alpha': 6.279610074224192, 'n_negatives': 10, 'n_workers': 0, 'K': 30, 'n_trials': 50}\n"
     ]
    },
    {
     "data": {
      "application/vnd.jupyter.widget-view+json": {
       "model_id": "ea687f22043d4bad8c2af47bff8f1c67",
       "version_major": 2,
       "version_minor": 0
      },
      "text/plain": [
       "  0%|          | 0/33 [00:00<?, ?it/s]"
      ]
     },
     "metadata": {},
     "output_type": "display_data"
    },
    {
     "name": "stdout",
     "output_type": "stream",
     "text": [
      "Hitrate: 0.7526 | Precision: 0.0508\n"
     ]
    },
    {
     "name": "stderr",
     "output_type": "stream",
     "text": [
      "[I 2024-05-30 00:57:48,461] Trial 7 finished with value: 0.050824587706146916 and parameters: {'factors': 192, 'regularization': 2.680331510883018, 'iterations': 33, 'n_negatives': 10, 'alpha': 6.279610074224192}. Best is trial 2 with value: 0.051274362818590706.\n"
     ]
    },
    {
     "name": "stdout",
     "output_type": "stream",
     "text": [
      "{'factors': 120, 'regularization': 2.7130496366690293, 'iterations': 42, 'alpha': 8.305849248818278, 'n_negatives': 4, 'n_workers': 0, 'K': 30, 'n_trials': 50}\n"
     ]
    },
    {
     "data": {
      "application/vnd.jupyter.widget-view+json": {
       "model_id": "a4fd37e2cc2b48559ed39f84c41ab654",
       "version_major": 2,
       "version_minor": 0
      },
      "text/plain": [
       "  0%|          | 0/42 [00:00<?, ?it/s]"
      ]
     },
     "metadata": {},
     "output_type": "display_data"
    },
    {
     "name": "stdout",
     "output_type": "stream",
     "text": [
      "Hitrate: 0.7571 | Precision: 0.0515\n"
     ]
    },
    {
     "name": "stderr",
     "output_type": "stream",
     "text": [
      "[I 2024-05-30 00:58:22,621] Trial 8 finished with value: 0.05152423788105947 and parameters: {'factors': 120, 'regularization': 2.7130496366690293, 'iterations': 42, 'n_negatives': 4, 'alpha': 8.305849248818278}. Best is trial 8 with value: 0.05152423788105947.\n"
     ]
    },
    {
     "name": "stdout",
     "output_type": "stream",
     "text": [
      "{'factors': 211, 'regularization': 0.3813166289939575, 'iterations': 16, 'alpha': 13.732901115670689, 'n_negatives': 9, 'n_workers': 0, 'K': 30, 'n_trials': 50}\n"
     ]
    },
    {
     "data": {
      "application/vnd.jupyter.widget-view+json": {
       "model_id": "99af2ee8811a4e768873775075948276",
       "version_major": 2,
       "version_minor": 0
      },
      "text/plain": [
       "  0%|          | 0/16 [00:00<?, ?it/s]"
      ]
     },
     "metadata": {},
     "output_type": "display_data"
    },
    {
     "name": "stdout",
     "output_type": "stream",
     "text": [
      "Hitrate: 0.7556 | Precision: 0.0513\n"
     ]
    },
    {
     "name": "stderr",
     "output_type": "stream",
     "text": [
      "[I 2024-05-30 00:59:32,841] Trial 9 finished with value: 0.051274362818590706 and parameters: {'factors': 211, 'regularization': 0.3813166289939575, 'iterations': 16, 'n_negatives': 9, 'alpha': 13.732901115670689}. Best is trial 8 with value: 0.05152423788105947.\n"
     ]
    },
    {
     "name": "stdout",
     "output_type": "stream",
     "text": [
      "{'factors': 112, 'regularization': 4.1583176774757575, 'iterations': 50, 'alpha': 13.507688341125377, 'n_negatives': 4, 'n_workers': 0, 'K': 30, 'n_trials': 50}\n"
     ]
    },
    {
     "data": {
      "application/vnd.jupyter.widget-view+json": {
       "model_id": "705349afd42144679b2be1fdcd837184",
       "version_major": 2,
       "version_minor": 0
      },
      "text/plain": [
       "  0%|          | 0/50 [00:00<?, ?it/s]"
      ]
     },
     "metadata": {},
     "output_type": "display_data"
    },
    {
     "name": "stdout",
     "output_type": "stream",
     "text": [
      "Hitrate: 0.7481 | Precision: 0.0506\n"
     ]
    },
    {
     "name": "stderr",
     "output_type": "stream",
     "text": [
      "[I 2024-05-30 01:00:08,045] Trial 10 finished with value: 0.05057471264367816 and parameters: {'factors': 112, 'regularization': 4.1583176774757575, 'iterations': 50, 'n_negatives': 4, 'alpha': 13.507688341125377}. Best is trial 8 with value: 0.05152423788105947.\n"
     ]
    },
    {
     "name": "stdout",
     "output_type": "stream",
     "text": [
      "{'factors': 117, 'regularization': 3.440976041453802, 'iterations': 22, 'alpha': 4.522961607020587, 'n_negatives': 6, 'n_workers': 0, 'K': 30, 'n_trials': 50}\n"
     ]
    },
    {
     "data": {
      "application/vnd.jupyter.widget-view+json": {
       "model_id": "ef686889a9304d309bedb091dca37772",
       "version_major": 2,
       "version_minor": 0
      },
      "text/plain": [
       "  0%|          | 0/22 [00:00<?, ?it/s]"
      ]
     },
     "metadata": {},
     "output_type": "display_data"
    },
    {
     "name": "stdout",
     "output_type": "stream",
     "text": [
      "Hitrate: 0.7571 | Precision: 0.0513\n"
     ]
    },
    {
     "name": "stderr",
     "output_type": "stream",
     "text": [
      "[I 2024-05-30 01:00:33,475] Trial 11 finished with value: 0.051274362818590706 and parameters: {'factors': 117, 'regularization': 3.440976041453802, 'iterations': 22, 'n_negatives': 6, 'alpha': 4.522961607020587}. Best is trial 8 with value: 0.05152423788105947.\n"
     ]
    },
    {
     "name": "stdout",
     "output_type": "stream",
     "text": [
      "{'factors': 163, 'regularization': 2.249299247136477, 'iterations': 23, 'alpha': 4.4405789783225185, 'n_negatives': 4, 'n_workers': 0, 'K': 30, 'n_trials': 50}\n"
     ]
    },
    {
     "data": {
      "application/vnd.jupyter.widget-view+json": {
       "model_id": "6885cce4f55a4aa6b3dc4e9c64557c8c",
       "version_major": 2,
       "version_minor": 0
      },
      "text/plain": [
       "  0%|          | 0/23 [00:00<?, ?it/s]"
      ]
     },
     "metadata": {},
     "output_type": "display_data"
    },
    {
     "name": "stdout",
     "output_type": "stream",
     "text": [
      "Hitrate: 0.7511 | Precision: 0.0515\n"
     ]
    },
    {
     "name": "stderr",
     "output_type": "stream",
     "text": [
      "[I 2024-05-30 01:00:57,714] Trial 12 finished with value: 0.05147426286856571 and parameters: {'factors': 163, 'regularization': 2.249299247136477, 'iterations': 23, 'n_negatives': 4, 'alpha': 4.4405789783225185}. Best is trial 8 with value: 0.05152423788105947.\n"
     ]
    },
    {
     "name": "stdout",
     "output_type": "stream",
     "text": [
      "{'factors': 76, 'regularization': 4.973958471480088, 'iterations': 25, 'alpha': 3.9943760477278976, 'n_negatives': 4, 'n_workers': 0, 'K': 30, 'n_trials': 50}\n"
     ]
    },
    {
     "data": {
      "application/vnd.jupyter.widget-view+json": {
       "model_id": "0abad92afa1e487084e5ed5cc3d20e2a",
       "version_major": 2,
       "version_minor": 0
      },
      "text/plain": [
       "  0%|          | 0/25 [00:00<?, ?it/s]"
      ]
     },
     "metadata": {},
     "output_type": "display_data"
    },
    {
     "name": "stdout",
     "output_type": "stream",
     "text": [
      "Hitrate: 0.7556 | Precision: 0.0505\n"
     ]
    },
    {
     "name": "stderr",
     "output_type": "stream",
     "text": [
      "[I 2024-05-30 01:01:16,386] Trial 13 finished with value: 0.050474762618690654 and parameters: {'factors': 76, 'regularization': 4.973958471480088, 'iterations': 25, 'n_negatives': 4, 'alpha': 3.9943760477278976}. Best is trial 8 with value: 0.05152423788105947.\n"
     ]
    },
    {
     "name": "stdout",
     "output_type": "stream",
     "text": [
      "{'factors': 137, 'regularization': 2.085010878358044, 'iterations': 39, 'alpha': 0.5134043928593872, 'n_negatives': 3, 'n_workers': 0, 'K': 30, 'n_trials': 50}\n"
     ]
    },
    {
     "data": {
      "application/vnd.jupyter.widget-view+json": {
       "model_id": "adaa726042e84b5e810d06a1e59f7ff3",
       "version_major": 2,
       "version_minor": 0
      },
      "text/plain": [
       "  0%|          | 0/39 [00:00<?, ?it/s]"
      ]
     },
     "metadata": {},
     "output_type": "display_data"
    },
    {
     "name": "stdout",
     "output_type": "stream",
     "text": [
      "Hitrate: 0.3058 | Precision: 0.0125\n"
     ]
    },
    {
     "name": "stderr",
     "output_type": "stream",
     "text": [
      "[I 2024-05-30 01:01:45,370] Trial 14 finished with value: 0.012543728135932035 and parameters: {'factors': 137, 'regularization': 2.085010878358044, 'iterations': 39, 'n_negatives': 3, 'alpha': 0.5134043928593872}. Best is trial 8 with value: 0.05152423788105947.\n"
     ]
    },
    {
     "name": "stdout",
     "output_type": "stream",
     "text": [
      "{'factors': 234, 'regularization': 3.7268354338714893, 'iterations': 21, 'alpha': 11.579489544756374, 'n_negatives': 5, 'n_workers': 0, 'K': 30, 'n_trials': 50}\n"
     ]
    },
    {
     "data": {
      "application/vnd.jupyter.widget-view+json": {
       "model_id": "5a35d77d883444d3abfbcfd1f97c73b2",
       "version_major": 2,
       "version_minor": 0
      },
      "text/plain": [
       "  0%|          | 0/21 [00:00<?, ?it/s]"
      ]
     },
     "metadata": {},
     "output_type": "display_data"
    },
    {
     "name": "stdout",
     "output_type": "stream",
     "text": [
      "Hitrate: 0.7466 | Precision: 0.0507\n"
     ]
    },
    {
     "name": "stderr",
     "output_type": "stream",
     "text": [
      "[I 2024-05-30 01:02:46,853] Trial 15 finished with value: 0.050674662668665674 and parameters: {'factors': 234, 'regularization': 3.7268354338714893, 'iterations': 21, 'n_negatives': 5, 'alpha': 11.579489544756374}. Best is trial 8 with value: 0.05152423788105947.\n"
     ]
    },
    {
     "name": "stdout",
     "output_type": "stream",
     "text": [
      "{'factors': 28, 'regularization': 2.309136059274688, 'iterations': 50, 'alpha': 4.536953279806801, 'n_negatives': 7, 'n_workers': 0, 'K': 30, 'n_trials': 50}\n"
     ]
    },
    {
     "data": {
      "application/vnd.jupyter.widget-view+json": {
       "model_id": "0c3cde2838a14791beb3c179972bd98e",
       "version_major": 2,
       "version_minor": 0
      },
      "text/plain": [
       "  0%|          | 0/50 [00:00<?, ?it/s]"
      ]
     },
     "metadata": {},
     "output_type": "display_data"
    },
    {
     "name": "stdout",
     "output_type": "stream",
     "text": [
      "Hitrate: 0.7196 | Precision: 0.0459\n"
     ]
    },
    {
     "name": "stderr",
     "output_type": "stream",
     "text": [
      "[I 2024-05-30 01:03:07,006] Trial 16 finished with value: 0.045877061469265366 and parameters: {'factors': 28, 'regularization': 2.309136059274688, 'iterations': 50, 'n_negatives': 7, 'alpha': 4.536953279806801}. Best is trial 8 with value: 0.05152423788105947.\n"
     ]
    },
    {
     "name": "stdout",
     "output_type": "stream",
     "text": [
      "{'factors': 146, 'regularization': 2.221647782635458, 'iterations': 25, 'alpha': 8.575841395496145, 'n_negatives': 5, 'n_workers': 0, 'K': 30, 'n_trials': 50}\n"
     ]
    },
    {
     "data": {
      "application/vnd.jupyter.widget-view+json": {
       "model_id": "9571a4fbce064adfa9add523dfa200b5",
       "version_major": 2,
       "version_minor": 0
      },
      "text/plain": [
       "  0%|          | 0/25 [00:00<?, ?it/s]"
      ]
     },
     "metadata": {},
     "output_type": "display_data"
    },
    {
     "name": "stdout",
     "output_type": "stream",
     "text": [
      "Hitrate: 0.7496 | Precision: 0.0513\n"
     ]
    },
    {
     "name": "stderr",
     "output_type": "stream",
     "text": [
      "[I 2024-05-30 01:03:34,215] Trial 17 finished with value: 0.051274362818590706 and parameters: {'factors': 146, 'regularization': 2.221647782635458, 'iterations': 25, 'n_negatives': 5, 'alpha': 8.575841395496145}. Best is trial 8 with value: 0.05152423788105947.\n"
     ]
    },
    {
     "name": "stdout",
     "output_type": "stream",
     "text": [
      "{'factors': 84, 'regularization': 3.9165193293111153, 'iterations': 17, 'alpha': 11.518342701815364, 'n_negatives': 2, 'n_workers': 0, 'K': 30, 'n_trials': 50}\n"
     ]
    },
    {
     "data": {
      "application/vnd.jupyter.widget-view+json": {
       "model_id": "699282870757426c9b64c34f6743034d",
       "version_major": 2,
       "version_minor": 0
      },
      "text/plain": [
       "  0%|          | 0/17 [00:00<?, ?it/s]"
      ]
     },
     "metadata": {},
     "output_type": "display_data"
    },
    {
     "name": "stdout",
     "output_type": "stream",
     "text": [
      "Hitrate: 0.7526 | Precision: 0.0506\n"
     ]
    },
    {
     "name": "stderr",
     "output_type": "stream",
     "text": [
      "[I 2024-05-30 01:03:46,335] Trial 18 finished with value: 0.05057471264367816 and parameters: {'factors': 84, 'regularization': 3.9165193293111153, 'iterations': 17, 'n_negatives': 2, 'alpha': 11.518342701815364}. Best is trial 8 with value: 0.05152423788105947.\n"
     ]
    },
    {
     "name": "stdout",
     "output_type": "stream",
     "text": [
      "{'factors': 282, 'regularization': 4.476943631468983, 'iterations': 42, 'alpha': 5.443025501269302, 'n_negatives': 3, 'n_workers': 0, 'K': 30, 'n_trials': 50}\n"
     ]
    },
    {
     "data": {
      "application/vnd.jupyter.widget-view+json": {
       "model_id": "3cbdd2d7526e4156a5b795996e3a747a",
       "version_major": 2,
       "version_minor": 0
      },
      "text/plain": [
       "  0%|          | 0/42 [00:00<?, ?it/s]"
      ]
     },
     "metadata": {},
     "output_type": "display_data"
    },
    {
     "name": "stdout",
     "output_type": "stream",
     "text": [
      "Hitrate: 0.7436 | Precision: 0.0509\n"
     ]
    },
    {
     "name": "stderr",
     "output_type": "stream",
     "text": [
      "[I 2024-05-30 01:05:34,211] Trial 19 finished with value: 0.05092453773113444 and parameters: {'factors': 282, 'regularization': 4.476943631468983, 'iterations': 42, 'n_negatives': 3, 'alpha': 5.443025501269302}. Best is trial 8 with value: 0.05152423788105947.\n"
     ]
    },
    {
     "name": "stdout",
     "output_type": "stream",
     "text": [
      "{'factors': 211, 'regularization': 3.131412233632151, 'iterations': 28, 'alpha': 2.869178953923513, 'n_negatives': 7, 'n_workers': 0, 'K': 30, 'n_trials': 50}\n"
     ]
    },
    {
     "data": {
      "application/vnd.jupyter.widget-view+json": {
       "model_id": "0b4f59d917e042ba802a8136f5c92898",
       "version_major": 2,
       "version_minor": 0
      },
      "text/plain": [
       "  0%|          | 0/28 [00:00<?, ?it/s]"
      ]
     },
     "metadata": {},
     "output_type": "display_data"
    },
    {
     "name": "stdout",
     "output_type": "stream",
     "text": [
      "Hitrate: 0.7481 | Precision: 0.0516\n"
     ]
    },
    {
     "name": "stderr",
     "output_type": "stream",
     "text": [
      "[I 2024-05-30 01:07:08,819] Trial 20 finished with value: 0.05157421289355322 and parameters: {'factors': 211, 'regularization': 3.131412233632151, 'iterations': 28, 'n_negatives': 7, 'alpha': 2.869178953923513}. Best is trial 20 with value: 0.05157421289355322.\n"
     ]
    },
    {
     "name": "stdout",
     "output_type": "stream",
     "text": [
      "{'factors': 215, 'regularization': 3.0111846050625015, 'iterations': 28, 'alpha': 2.824694942488767, 'n_negatives': 7, 'n_workers': 0, 'K': 30, 'n_trials': 50}\n"
     ]
    },
    {
     "data": {
      "application/vnd.jupyter.widget-view+json": {
       "model_id": "039c2b160e664079a44b9771c97b785f",
       "version_major": 2,
       "version_minor": 0
      },
      "text/plain": [
       "  0%|          | 0/28 [00:00<?, ?it/s]"
      ]
     },
     "metadata": {},
     "output_type": "display_data"
    },
    {
     "name": "stdout",
     "output_type": "stream",
     "text": [
      "Hitrate: 0.7481 | Precision: 0.0515\n"
     ]
    },
    {
     "name": "stderr",
     "output_type": "stream",
     "text": [
      "[I 2024-05-30 01:08:42,853] Trial 21 finished with value: 0.05147426286856571 and parameters: {'factors': 215, 'regularization': 3.0111846050625015, 'iterations': 28, 'n_negatives': 7, 'alpha': 2.824694942488767}. Best is trial 20 with value: 0.05157421289355322.\n"
     ]
    },
    {
     "name": "stdout",
     "output_type": "stream",
     "text": [
      "{'factors': 151, 'regularization': 3.3668873678299587, 'iterations': 36, 'alpha': 1.075459240172128, 'n_negatives': 7, 'n_workers': 0, 'K': 30, 'n_trials': 50}\n"
     ]
    },
    {
     "data": {
      "application/vnd.jupyter.widget-view+json": {
       "model_id": "ae061323dba141c3834bcb72043e22f7",
       "version_major": 2,
       "version_minor": 0
      },
      "text/plain": [
       "  0%|          | 0/36 [00:00<?, ?it/s]"
      ]
     },
     "metadata": {},
     "output_type": "display_data"
    },
    {
     "name": "stdout",
     "output_type": "stream",
     "text": [
      "Hitrate: 0.7211 | Precision: 0.0480\n"
     ]
    },
    {
     "name": "stderr",
     "output_type": "stream",
     "text": [
      "[I 2024-05-30 01:09:28,311] Trial 22 finished with value: 0.04802598700649675 and parameters: {'factors': 151, 'regularization': 3.3668873678299587, 'iterations': 36, 'n_negatives': 7, 'alpha': 1.075459240172128}. Best is trial 20 with value: 0.05157421289355322.\n"
     ]
    },
    {
     "name": "stdout",
     "output_type": "stream",
     "text": [
      "{'factors': 254, 'regularization': 2.4971198533964585, 'iterations': 25, 'alpha': 3.412250996316181, 'n_negatives': 5, 'n_workers': 0, 'K': 30, 'n_trials': 50}\n"
     ]
    },
    {
     "data": {
      "application/vnd.jupyter.widget-view+json": {
       "model_id": "8ff67d759a3e4c73a3b4e8406cffa03b",
       "version_major": 2,
       "version_minor": 0
      },
      "text/plain": [
       "  0%|          | 0/25 [00:00<?, ?it/s]"
      ]
     },
     "metadata": {},
     "output_type": "display_data"
    },
    {
     "name": "stdout",
     "output_type": "stream",
     "text": [
      "Hitrate: 0.7421 | Precision: 0.0510\n"
     ]
    },
    {
     "name": "stderr",
     "output_type": "stream",
     "text": [
      "[I 2024-05-30 01:11:48,402] Trial 23 finished with value: 0.051024487756121936 and parameters: {'factors': 254, 'regularization': 2.4971198533964585, 'iterations': 25, 'n_negatives': 5, 'alpha': 3.412250996316181}. Best is trial 20 with value: 0.05157421289355322.\n"
     ]
    },
    {
     "name": "stdout",
     "output_type": "stream",
     "text": [
      "{'factors': 192, 'regularization': 2.000078242497988, 'iterations': 19, 'alpha': 7.662903478562012, 'n_negatives': 3, 'n_workers': 0, 'K': 30, 'n_trials': 50}\n"
     ]
    },
    {
     "data": {
      "application/vnd.jupyter.widget-view+json": {
       "model_id": "c2e7c5c4ba024df196a2f7af00643035",
       "version_major": 2,
       "version_minor": 0
      },
      "text/plain": [
       "  0%|          | 0/19 [00:00<?, ?it/s]"
      ]
     },
     "metadata": {},
     "output_type": "display_data"
    },
    {
     "name": "stdout",
     "output_type": "stream",
     "text": [
      "Hitrate: 0.7526 | Precision: 0.0513\n"
     ]
    },
    {
     "name": "stderr",
     "output_type": "stream",
     "text": [
      "[I 2024-05-30 01:12:08,756] Trial 24 finished with value: 0.051274362818590706 and parameters: {'factors': 192, 'regularization': 2.000078242497988, 'iterations': 19, 'n_negatives': 3, 'alpha': 7.662903478562012}. Best is trial 20 with value: 0.05157421289355322.\n"
     ]
    },
    {
     "name": "stdout",
     "output_type": "stream",
     "text": [
      "{'factors': 95, 'regularization': 1.750346513855498, 'iterations': 32, 'alpha': 5.601438570576932, 'n_negatives': 8, 'n_workers': 0, 'K': 30, 'n_trials': 50}\n"
     ]
    },
    {
     "data": {
      "application/vnd.jupyter.widget-view+json": {
       "model_id": "5792b877f49449eb9672811ea54479e3",
       "version_major": 2,
       "version_minor": 0
      },
      "text/plain": [
       "  0%|          | 0/32 [00:00<?, ?it/s]"
      ]
     },
     "metadata": {},
     "output_type": "display_data"
    },
    {
     "name": "stdout",
     "output_type": "stream",
     "text": [
      "Hitrate: 0.7586 | Precision: 0.0505\n"
     ]
    },
    {
     "name": "stderr",
     "output_type": "stream",
     "text": [
      "[I 2024-05-30 01:12:45,701] Trial 25 finished with value: 0.05052473763118441 and parameters: {'factors': 95, 'regularization': 1.750346513855498, 'iterations': 32, 'n_negatives': 8, 'alpha': 5.601438570576932}. Best is trial 20 with value: 0.05157421289355322.\n"
     ]
    },
    {
     "name": "stdout",
     "output_type": "stream",
     "text": [
      "{'factors': 168, 'regularization': 2.986204448933992, 'iterations': 28, 'alpha': 1.7019954309314516, 'n_negatives': 4, 'n_workers': 0, 'K': 30, 'n_trials': 50}\n"
     ]
    },
    {
     "data": {
      "application/vnd.jupyter.widget-view+json": {
       "model_id": "78bcb195cd0b4ca48916dc82527e7cc6",
       "version_major": 2,
       "version_minor": 0
      },
      "text/plain": [
       "  0%|          | 0/28 [00:00<?, ?it/s]"
      ]
     },
     "metadata": {},
     "output_type": "display_data"
    },
    {
     "name": "stdout",
     "output_type": "stream",
     "text": [
      "Hitrate: 0.7436 | Precision: 0.0513\n"
     ]
    },
    {
     "name": "stderr",
     "output_type": "stream",
     "text": [
      "[I 2024-05-30 01:13:15,783] Trial 26 finished with value: 0.051324337831084456 and parameters: {'factors': 168, 'regularization': 2.986204448933992, 'iterations': 28, 'n_negatives': 4, 'alpha': 1.7019954309314516}. Best is trial 20 with value: 0.05157421289355322.\n"
     ]
    },
    {
     "name": "stdout",
     "output_type": "stream",
     "text": [
      "{'factors': 132, 'regularization': 3.555382304188049, 'iterations': 47, 'alpha': 5.112022118321143, 'n_negatives': 8, 'n_workers': 0, 'K': 30, 'n_trials': 50}\n"
     ]
    },
    {
     "data": {
      "application/vnd.jupyter.widget-view+json": {
       "model_id": "2e8aa6501f11437284bc38f954d667ce",
       "version_major": 2,
       "version_minor": 0
      },
      "text/plain": [
       "  0%|          | 0/47 [00:00<?, ?it/s]"
      ]
     },
     "metadata": {},
     "output_type": "display_data"
    },
    {
     "name": "stdout",
     "output_type": "stream",
     "text": [
      "Hitrate: 0.7511 | Precision: 0.0513\n"
     ]
    },
    {
     "name": "stderr",
     "output_type": "stream",
     "text": [
      "[I 2024-05-30 01:14:07,217] Trial 27 finished with value: 0.051324337831084456 and parameters: {'factors': 132, 'regularization': 3.555382304188049, 'iterations': 47, 'n_negatives': 8, 'alpha': 5.112022118321143}. Best is trial 20 with value: 0.05157421289355322.\n"
     ]
    },
    {
     "name": "stdout",
     "output_type": "stream",
     "text": [
      "{'factors': 300, 'regularization': 2.4602760527858165, 'iterations': 37, 'alpha': 3.24163735343062, 'n_negatives': 5, 'n_workers': 0, 'K': 30, 'n_trials': 50}\n"
     ]
    },
    {
     "data": {
      "application/vnd.jupyter.widget-view+json": {
       "model_id": "9cd481208f264208bedcb5ce92427287",
       "version_major": 2,
       "version_minor": 0
      },
      "text/plain": [
       "  0%|          | 0/37 [00:00<?, ?it/s]"
      ]
     },
     "metadata": {},
     "output_type": "display_data"
    },
    {
     "name": "stdout",
     "output_type": "stream",
     "text": [
      "Hitrate: 0.7466 | Precision: 0.0510\n"
     ]
    },
    {
     "name": "stderr",
     "output_type": "stream",
     "text": [
      "[I 2024-05-30 01:16:05,026] Trial 28 finished with value: 0.050974512743628186 and parameters: {'factors': 300, 'regularization': 2.4602760527858165, 'iterations': 37, 'n_negatives': 5, 'alpha': 3.24163735343062}. Best is trial 20 with value: 0.05157421289355322.\n"
     ]
    },
    {
     "name": "stdout",
     "output_type": "stream",
     "text": [
      "{'factors': 51, 'regularization': 0.8246316900432136, 'iterations': 22, 'alpha': 7.601719863261747, 'n_negatives': 1, 'n_workers': 0, 'K': 30, 'n_trials': 50}\n"
     ]
    },
    {
     "data": {
      "application/vnd.jupyter.widget-view+json": {
       "model_id": "0ab665dd43a64034bcad7f8a5e437387",
       "version_major": 2,
       "version_minor": 0
      },
      "text/plain": [
       "  0%|          | 0/22 [00:00<?, ?it/s]"
      ]
     },
     "metadata": {},
     "output_type": "display_data"
    },
    {
     "name": "stdout",
     "output_type": "stream",
     "text": [
      "Hitrate: 0.7466 | Precision: 0.0491\n"
     ]
    },
    {
     "name": "stderr",
     "output_type": "stream",
     "text": [
      "[I 2024-05-30 01:16:12,315] Trial 29 finished with value: 0.04912543728135932 and parameters: {'factors': 51, 'regularization': 0.8246316900432136, 'iterations': 22, 'n_negatives': 1, 'alpha': 7.601719863261747}. Best is trial 20 with value: 0.05157421289355322.\n"
     ]
    },
    {
     "name": "stdout",
     "output_type": "stream",
     "text": [
      "{'factors': 203, 'regularization': 2.720165591556184, 'iterations': 40, 'alpha': 9.832361772139311, 'n_negatives': 1, 'n_workers': 0, 'K': 30, 'n_trials': 50}\n"
     ]
    },
    {
     "data": {
      "application/vnd.jupyter.widget-view+json": {
       "model_id": "c4c18248734f4a128699d5506ed06170",
       "version_major": 2,
       "version_minor": 0
      },
      "text/plain": [
       "  0%|          | 0/40 [00:00<?, ?it/s]"
      ]
     },
     "metadata": {},
     "output_type": "display_data"
    },
    {
     "name": "stdout",
     "output_type": "stream",
     "text": [
      "Hitrate: 0.7451 | Precision: 0.0515\n"
     ]
    },
    {
     "name": "stderr",
     "output_type": "stream",
     "text": [
      "[I 2024-05-30 01:17:07,879] Trial 30 finished with value: 0.05147426286856571 and parameters: {'factors': 203, 'regularization': 2.720165591556184, 'iterations': 40, 'n_negatives': 1, 'alpha': 9.832361772139311}. Best is trial 20 with value: 0.05157421289355322.\n"
     ]
    },
    {
     "name": "stdout",
     "output_type": "stream",
     "text": [
      "{'factors': 234, 'regularization': 3.132213781729635, 'iterations': 27, 'alpha': 1.515129530247258, 'n_negatives': 7, 'n_workers': 0, 'K': 30, 'n_trials': 50}\n"
     ]
    },
    {
     "data": {
      "application/vnd.jupyter.widget-view+json": {
       "model_id": "31ec353730bb497bbc841f688ea11c20",
       "version_major": 2,
       "version_minor": 0
      },
      "text/plain": [
       "  0%|          | 0/27 [00:00<?, ?it/s]"
      ]
     },
     "metadata": {},
     "output_type": "display_data"
    },
    {
     "name": "stdout",
     "output_type": "stream",
     "text": [
      "Hitrate: 0.7451 | Precision: 0.0512\n"
     ]
    },
    {
     "name": "stderr",
     "output_type": "stream",
     "text": [
      "[I 2024-05-30 01:18:37,952] Trial 31 finished with value: 0.051174412793603186 and parameters: {'factors': 234, 'regularization': 3.132213781729635, 'iterations': 27, 'n_negatives': 7, 'alpha': 1.515129530247258}. Best is trial 20 with value: 0.05157421289355322.\n"
     ]
    },
    {
     "name": "stdout",
     "output_type": "stream",
     "text": [
      "{'factors': 221, 'regularization': 2.9878549072669864, 'iterations': 31, 'alpha': 2.7144940824462007, 'n_negatives': 7, 'n_workers': 0, 'K': 30, 'n_trials': 50}\n"
     ]
    },
    {
     "data": {
      "application/vnd.jupyter.widget-view+json": {
       "model_id": "4fb65179fc6b4ea3b5e67bcce84dbd3c",
       "version_major": 2,
       "version_minor": 0
      },
      "text/plain": [
       "  0%|          | 0/31 [00:00<?, ?it/s]"
      ]
     },
     "metadata": {},
     "output_type": "display_data"
    },
    {
     "name": "stdout",
     "output_type": "stream",
     "text": [
      "Hitrate: 0.7481 | Precision: 0.0511\n"
     ]
    },
    {
     "name": "stderr",
     "output_type": "stream",
     "text": [
      "[I 2024-05-30 01:20:29,251] Trial 32 finished with value: 0.051074462768615686 and parameters: {'factors': 221, 'regularization': 2.9878549072669864, 'iterations': 31, 'n_negatives': 7, 'alpha': 2.7144940824462007}. Best is trial 20 with value: 0.05157421289355322.\n"
     ]
    },
    {
     "name": "stdout",
     "output_type": "stream",
     "text": [
      "{'factors': 177, 'regularization': 2.699644745630464, 'iterations': 27, 'alpha': 3.7118064519704, 'n_negatives': 6, 'n_workers': 0, 'K': 30, 'n_trials': 50}\n"
     ]
    },
    {
     "data": {
      "application/vnd.jupyter.widget-view+json": {
       "model_id": "fd1e11ecd09a48659f766623e7488f2a",
       "version_major": 2,
       "version_minor": 0
      },
      "text/plain": [
       "  0%|          | 0/27 [00:00<?, ?it/s]"
      ]
     },
     "metadata": {},
     "output_type": "display_data"
    },
    {
     "name": "stdout",
     "output_type": "stream",
     "text": [
      "Hitrate: 0.7571 | Precision: 0.0517\n"
     ]
    },
    {
     "name": "stderr",
     "output_type": "stream",
     "text": [
      "[I 2024-05-30 01:21:04,999] Trial 33 finished with value: 0.05172413793103448 and parameters: {'factors': 177, 'regularization': 2.699644745630464, 'iterations': 27, 'n_negatives': 6, 'alpha': 3.7118064519704}. Best is trial 33 with value: 0.05172413793103448.\n"
     ]
    },
    {
     "name": "stdout",
     "output_type": "stream",
     "text": [
      "{'factors': 179, 'regularization': 0.07839624999602535, 'iterations': 45, 'alpha': 3.988509538806713, 'n_negatives': 6, 'n_workers': 0, 'K': 30, 'n_trials': 50}\n"
     ]
    },
    {
     "data": {
      "application/vnd.jupyter.widget-view+json": {
       "model_id": "65f7f99ad3794af3aa9858a3b980bc4f",
       "version_major": 2,
       "version_minor": 0
      },
      "text/plain": [
       "  0%|          | 0/45 [00:00<?, ?it/s]"
      ]
     },
     "metadata": {},
     "output_type": "display_data"
    },
    {
     "name": "stdout",
     "output_type": "stream",
     "text": [
      "Hitrate: 0.7481 | Precision: 0.0511\n"
     ]
    },
    {
     "name": "stderr",
     "output_type": "stream",
     "text": [
      "[I 2024-05-30 01:21:58,872] Trial 34 finished with value: 0.051074462768615686 and parameters: {'factors': 179, 'regularization': 0.07839624999602535, 'iterations': 45, 'n_negatives': 6, 'alpha': 3.988509538806713}. Best is trial 33 with value: 0.05172413793103448.\n"
     ]
    },
    {
     "name": "stdout",
     "output_type": "stream",
     "text": [
      "{'factors': 167, 'regularization': 1.7545370853774147, 'iterations': 34, 'alpha': 0.26910011941642287, 'n_negatives': 6, 'n_workers': 0, 'K': 30, 'n_trials': 50}\n"
     ]
    },
    {
     "data": {
      "application/vnd.jupyter.widget-view+json": {
       "model_id": "7f37bb1a64f14c29a40ecdd6990706e8",
       "version_major": 2,
       "version_minor": 0
      },
      "text/plain": [
       "  0%|          | 0/34 [00:00<?, ?it/s]"
      ]
     },
     "metadata": {},
     "output_type": "display_data"
    },
    {
     "name": "stderr",
     "output_type": "stream",
     "text": [
      "[W 2024-05-30 01:22:35,110] Trial 35 failed with parameters: {'factors': 167, 'regularization': 1.7545370853774147, 'iterations': 34, 'n_negatives': 6, 'alpha': 0.26910011941642287} because of the following error: ModelFitError('NaN encountered in factors').\n",
      "Traceback (most recent call last):\n",
      "  File \"/home/user/.pyenv/versions/3.10.9/lib/python3.10/site-packages/optuna/study/_optimize.py\", line 196, in _run_trial\n",
      "    value_or_values = func(trial)\n",
      "  File \"/tmp/ipykernel_7480/2902507591.py\", line 9, in objective\n",
      "    precision = run_als(\n",
      "  File \"/tmp/ipykernel_7480/776379376.py\", line 37, in run_als\n",
      "    model.fit(users, items, labels, run_params[\"n_negatives\"])\n",
      "  File \"/tmp/ipykernel_7480/1379824865.py\", line 22, in fit\n",
      "    self.model.fit(self.matrix)\n",
      "  File \"/home/user/.pyenv/versions/3.10.9/lib/python3.10/site-packages/implicit/cpu/als.py\", line 201, in fit\n",
      "    self._check_fit_errors()\n",
      "  File \"/home/user/.pyenv/versions/3.10.9/lib/python3.10/site-packages/implicit/cpu/matrix_factorization_base.py\", line 252, in _check_fit_errors\n",
      "    raise ModelFitError(\"NaN encountered in factors\")\n",
      "implicit.recommender_base.ModelFitError: NaN encountered in factors\n",
      "[W 2024-05-30 01:22:35,120] Trial 35 failed with value None.\n"
     ]
    },
    {
     "ename": "ModelFitError",
     "evalue": "NaN encountered in factors",
     "output_type": "error",
     "traceback": [
      "\u001b[0;31m---------------------------------------------------------------------------\u001b[0m",
      "\u001b[0;31mModelFitError\u001b[0m                             Traceback (most recent call last)",
      "Cell \u001b[0;32mIn[424], line 2\u001b[0m\n\u001b[1;32m      1\u001b[0m study \u001b[38;5;241m=\u001b[39m optuna\u001b[38;5;241m.\u001b[39mcreate_study(direction\u001b[38;5;241m=\u001b[39m\u001b[38;5;124m'\u001b[39m\u001b[38;5;124mmaximize\u001b[39m\u001b[38;5;124m'\u001b[39m)\n\u001b[0;32m----> 2\u001b[0m \u001b[43mstudy\u001b[49m\u001b[38;5;241;43m.\u001b[39;49m\u001b[43moptimize\u001b[49m\u001b[43m(\u001b[49m\u001b[43mobjective\u001b[49m\u001b[43m,\u001b[49m\u001b[43m \u001b[49m\u001b[43mn_trials\u001b[49m\u001b[38;5;241;43m=\u001b[39;49m\u001b[43mN_TRIALS\u001b[49m\u001b[43m)\u001b[49m\n",
      "File \u001b[0;32m~/.pyenv/versions/3.10.9/lib/python3.10/site-packages/optuna/study/study.py:451\u001b[0m, in \u001b[0;36mStudy.optimize\u001b[0;34m(self, func, n_trials, timeout, n_jobs, catch, callbacks, gc_after_trial, show_progress_bar)\u001b[0m\n\u001b[1;32m    348\u001b[0m \u001b[38;5;28;01mdef\u001b[39;00m \u001b[38;5;21moptimize\u001b[39m(\n\u001b[1;32m    349\u001b[0m     \u001b[38;5;28mself\u001b[39m,\n\u001b[1;32m    350\u001b[0m     func: ObjectiveFuncType,\n\u001b[0;32m   (...)\u001b[0m\n\u001b[1;32m    357\u001b[0m     show_progress_bar: \u001b[38;5;28mbool\u001b[39m \u001b[38;5;241m=\u001b[39m \u001b[38;5;28;01mFalse\u001b[39;00m,\n\u001b[1;32m    358\u001b[0m ) \u001b[38;5;241m-\u001b[39m\u001b[38;5;241m>\u001b[39m \u001b[38;5;28;01mNone\u001b[39;00m:\n\u001b[1;32m    359\u001b[0m \u001b[38;5;250m    \u001b[39m\u001b[38;5;124;03m\"\"\"Optimize an objective function.\u001b[39;00m\n\u001b[1;32m    360\u001b[0m \n\u001b[1;32m    361\u001b[0m \u001b[38;5;124;03m    Optimization is done by choosing a suitable set of hyperparameter values from a given\u001b[39;00m\n\u001b[0;32m   (...)\u001b[0m\n\u001b[1;32m    449\u001b[0m \u001b[38;5;124;03m            If nested invocation of this method occurs.\u001b[39;00m\n\u001b[1;32m    450\u001b[0m \u001b[38;5;124;03m    \"\"\"\u001b[39;00m\n\u001b[0;32m--> 451\u001b[0m     \u001b[43m_optimize\u001b[49m\u001b[43m(\u001b[49m\n\u001b[1;32m    452\u001b[0m \u001b[43m        \u001b[49m\u001b[43mstudy\u001b[49m\u001b[38;5;241;43m=\u001b[39;49m\u001b[38;5;28;43mself\u001b[39;49m\u001b[43m,\u001b[49m\n\u001b[1;32m    453\u001b[0m \u001b[43m        \u001b[49m\u001b[43mfunc\u001b[49m\u001b[38;5;241;43m=\u001b[39;49m\u001b[43mfunc\u001b[49m\u001b[43m,\u001b[49m\n\u001b[1;32m    454\u001b[0m \u001b[43m        \u001b[49m\u001b[43mn_trials\u001b[49m\u001b[38;5;241;43m=\u001b[39;49m\u001b[43mn_trials\u001b[49m\u001b[43m,\u001b[49m\n\u001b[1;32m    455\u001b[0m \u001b[43m        \u001b[49m\u001b[43mtimeout\u001b[49m\u001b[38;5;241;43m=\u001b[39;49m\u001b[43mtimeout\u001b[49m\u001b[43m,\u001b[49m\n\u001b[1;32m    456\u001b[0m \u001b[43m        \u001b[49m\u001b[43mn_jobs\u001b[49m\u001b[38;5;241;43m=\u001b[39;49m\u001b[43mn_jobs\u001b[49m\u001b[43m,\u001b[49m\n\u001b[1;32m    457\u001b[0m \u001b[43m        \u001b[49m\u001b[43mcatch\u001b[49m\u001b[38;5;241;43m=\u001b[39;49m\u001b[38;5;28;43mtuple\u001b[39;49m\u001b[43m(\u001b[49m\u001b[43mcatch\u001b[49m\u001b[43m)\u001b[49m\u001b[43m \u001b[49m\u001b[38;5;28;43;01mif\u001b[39;49;00m\u001b[43m \u001b[49m\u001b[38;5;28;43misinstance\u001b[39;49m\u001b[43m(\u001b[49m\u001b[43mcatch\u001b[49m\u001b[43m,\u001b[49m\u001b[43m \u001b[49m\u001b[43mIterable\u001b[49m\u001b[43m)\u001b[49m\u001b[43m \u001b[49m\u001b[38;5;28;43;01melse\u001b[39;49;00m\u001b[43m \u001b[49m\u001b[43m(\u001b[49m\u001b[43mcatch\u001b[49m\u001b[43m,\u001b[49m\u001b[43m)\u001b[49m\u001b[43m,\u001b[49m\n\u001b[1;32m    458\u001b[0m \u001b[43m        \u001b[49m\u001b[43mcallbacks\u001b[49m\u001b[38;5;241;43m=\u001b[39;49m\u001b[43mcallbacks\u001b[49m\u001b[43m,\u001b[49m\n\u001b[1;32m    459\u001b[0m \u001b[43m        \u001b[49m\u001b[43mgc_after_trial\u001b[49m\u001b[38;5;241;43m=\u001b[39;49m\u001b[43mgc_after_trial\u001b[49m\u001b[43m,\u001b[49m\n\u001b[1;32m    460\u001b[0m \u001b[43m        \u001b[49m\u001b[43mshow_progress_bar\u001b[49m\u001b[38;5;241;43m=\u001b[39;49m\u001b[43mshow_progress_bar\u001b[49m\u001b[43m,\u001b[49m\n\u001b[1;32m    461\u001b[0m \u001b[43m    \u001b[49m\u001b[43m)\u001b[49m\n",
      "File \u001b[0;32m~/.pyenv/versions/3.10.9/lib/python3.10/site-packages/optuna/study/_optimize.py:62\u001b[0m, in \u001b[0;36m_optimize\u001b[0;34m(study, func, n_trials, timeout, n_jobs, catch, callbacks, gc_after_trial, show_progress_bar)\u001b[0m\n\u001b[1;32m     60\u001b[0m \u001b[38;5;28;01mtry\u001b[39;00m:\n\u001b[1;32m     61\u001b[0m     \u001b[38;5;28;01mif\u001b[39;00m n_jobs \u001b[38;5;241m==\u001b[39m \u001b[38;5;241m1\u001b[39m:\n\u001b[0;32m---> 62\u001b[0m         \u001b[43m_optimize_sequential\u001b[49m\u001b[43m(\u001b[49m\n\u001b[1;32m     63\u001b[0m \u001b[43m            \u001b[49m\u001b[43mstudy\u001b[49m\u001b[43m,\u001b[49m\n\u001b[1;32m     64\u001b[0m \u001b[43m            \u001b[49m\u001b[43mfunc\u001b[49m\u001b[43m,\u001b[49m\n\u001b[1;32m     65\u001b[0m \u001b[43m            \u001b[49m\u001b[43mn_trials\u001b[49m\u001b[43m,\u001b[49m\n\u001b[1;32m     66\u001b[0m \u001b[43m            \u001b[49m\u001b[43mtimeout\u001b[49m\u001b[43m,\u001b[49m\n\u001b[1;32m     67\u001b[0m \u001b[43m            \u001b[49m\u001b[43mcatch\u001b[49m\u001b[43m,\u001b[49m\n\u001b[1;32m     68\u001b[0m \u001b[43m            \u001b[49m\u001b[43mcallbacks\u001b[49m\u001b[43m,\u001b[49m\n\u001b[1;32m     69\u001b[0m \u001b[43m            \u001b[49m\u001b[43mgc_after_trial\u001b[49m\u001b[43m,\u001b[49m\n\u001b[1;32m     70\u001b[0m \u001b[43m            \u001b[49m\u001b[43mreseed_sampler_rng\u001b[49m\u001b[38;5;241;43m=\u001b[39;49m\u001b[38;5;28;43;01mFalse\u001b[39;49;00m\u001b[43m,\u001b[49m\n\u001b[1;32m     71\u001b[0m \u001b[43m            \u001b[49m\u001b[43mtime_start\u001b[49m\u001b[38;5;241;43m=\u001b[39;49m\u001b[38;5;28;43;01mNone\u001b[39;49;00m\u001b[43m,\u001b[49m\n\u001b[1;32m     72\u001b[0m \u001b[43m            \u001b[49m\u001b[43mprogress_bar\u001b[49m\u001b[38;5;241;43m=\u001b[39;49m\u001b[43mprogress_bar\u001b[49m\u001b[43m,\u001b[49m\n\u001b[1;32m     73\u001b[0m \u001b[43m        \u001b[49m\u001b[43m)\u001b[49m\n\u001b[1;32m     74\u001b[0m     \u001b[38;5;28;01melse\u001b[39;00m:\n\u001b[1;32m     75\u001b[0m         \u001b[38;5;28;01mif\u001b[39;00m n_jobs \u001b[38;5;241m==\u001b[39m \u001b[38;5;241m-\u001b[39m\u001b[38;5;241m1\u001b[39m:\n",
      "File \u001b[0;32m~/.pyenv/versions/3.10.9/lib/python3.10/site-packages/optuna/study/_optimize.py:159\u001b[0m, in \u001b[0;36m_optimize_sequential\u001b[0;34m(study, func, n_trials, timeout, catch, callbacks, gc_after_trial, reseed_sampler_rng, time_start, progress_bar)\u001b[0m\n\u001b[1;32m    156\u001b[0m         \u001b[38;5;28;01mbreak\u001b[39;00m\n\u001b[1;32m    158\u001b[0m \u001b[38;5;28;01mtry\u001b[39;00m:\n\u001b[0;32m--> 159\u001b[0m     frozen_trial \u001b[38;5;241m=\u001b[39m \u001b[43m_run_trial\u001b[49m\u001b[43m(\u001b[49m\u001b[43mstudy\u001b[49m\u001b[43m,\u001b[49m\u001b[43m \u001b[49m\u001b[43mfunc\u001b[49m\u001b[43m,\u001b[49m\u001b[43m \u001b[49m\u001b[43mcatch\u001b[49m\u001b[43m)\u001b[49m\n\u001b[1;32m    160\u001b[0m \u001b[38;5;28;01mfinally\u001b[39;00m:\n\u001b[1;32m    161\u001b[0m     \u001b[38;5;66;03m# The following line mitigates memory problems that can be occurred in some\u001b[39;00m\n\u001b[1;32m    162\u001b[0m     \u001b[38;5;66;03m# environments (e.g., services that use computing containers such as GitHub Actions).\u001b[39;00m\n\u001b[1;32m    163\u001b[0m     \u001b[38;5;66;03m# Please refer to the following PR for further details:\u001b[39;00m\n\u001b[1;32m    164\u001b[0m     \u001b[38;5;66;03m# https://github.com/optuna/optuna/pull/325.\u001b[39;00m\n\u001b[1;32m    165\u001b[0m     \u001b[38;5;28;01mif\u001b[39;00m gc_after_trial:\n",
      "File \u001b[0;32m~/.pyenv/versions/3.10.9/lib/python3.10/site-packages/optuna/study/_optimize.py:247\u001b[0m, in \u001b[0;36m_run_trial\u001b[0;34m(study, func, catch)\u001b[0m\n\u001b[1;32m    240\u001b[0m         \u001b[38;5;28;01massert\u001b[39;00m \u001b[38;5;28;01mFalse\u001b[39;00m, \u001b[38;5;124m\"\u001b[39m\u001b[38;5;124mShould not reach.\u001b[39m\u001b[38;5;124m\"\u001b[39m\n\u001b[1;32m    242\u001b[0m \u001b[38;5;28;01mif\u001b[39;00m (\n\u001b[1;32m    243\u001b[0m     frozen_trial\u001b[38;5;241m.\u001b[39mstate \u001b[38;5;241m==\u001b[39m TrialState\u001b[38;5;241m.\u001b[39mFAIL\n\u001b[1;32m    244\u001b[0m     \u001b[38;5;129;01mand\u001b[39;00m func_err \u001b[38;5;129;01mis\u001b[39;00m \u001b[38;5;129;01mnot\u001b[39;00m \u001b[38;5;28;01mNone\u001b[39;00m\n\u001b[1;32m    245\u001b[0m     \u001b[38;5;129;01mand\u001b[39;00m \u001b[38;5;129;01mnot\u001b[39;00m \u001b[38;5;28misinstance\u001b[39m(func_err, catch)\n\u001b[1;32m    246\u001b[0m ):\n\u001b[0;32m--> 247\u001b[0m     \u001b[38;5;28;01mraise\u001b[39;00m func_err\n\u001b[1;32m    248\u001b[0m \u001b[38;5;28;01mreturn\u001b[39;00m frozen_trial\n",
      "File \u001b[0;32m~/.pyenv/versions/3.10.9/lib/python3.10/site-packages/optuna/study/_optimize.py:196\u001b[0m, in \u001b[0;36m_run_trial\u001b[0;34m(study, func, catch)\u001b[0m\n\u001b[1;32m    194\u001b[0m \u001b[38;5;28;01mwith\u001b[39;00m get_heartbeat_thread(trial\u001b[38;5;241m.\u001b[39m_trial_id, study\u001b[38;5;241m.\u001b[39m_storage):\n\u001b[1;32m    195\u001b[0m     \u001b[38;5;28;01mtry\u001b[39;00m:\n\u001b[0;32m--> 196\u001b[0m         value_or_values \u001b[38;5;241m=\u001b[39m \u001b[43mfunc\u001b[49m\u001b[43m(\u001b[49m\u001b[43mtrial\u001b[49m\u001b[43m)\u001b[49m\n\u001b[1;32m    197\u001b[0m     \u001b[38;5;28;01mexcept\u001b[39;00m exceptions\u001b[38;5;241m.\u001b[39mTrialPruned \u001b[38;5;28;01mas\u001b[39;00m e:\n\u001b[1;32m    198\u001b[0m         \u001b[38;5;66;03m# TODO(mamu): Handle multi-objective cases.\u001b[39;00m\n\u001b[1;32m    199\u001b[0m         state \u001b[38;5;241m=\u001b[39m TrialState\u001b[38;5;241m.\u001b[39mPRUNED\n",
      "Cell \u001b[0;32mIn[423], line 9\u001b[0m, in \u001b[0;36mobjective\u001b[0;34m(trial)\u001b[0m\n\u001b[1;32m      6\u001b[0m n_negatives \u001b[38;5;241m=\u001b[39m trial\u001b[38;5;241m.\u001b[39msuggest_int(\u001b[38;5;124m'\u001b[39m\u001b[38;5;124mn_negatives\u001b[39m\u001b[38;5;124m'\u001b[39m, \u001b[38;5;241m1\u001b[39m, \u001b[38;5;241m10\u001b[39m)\n\u001b[1;32m      7\u001b[0m alpha \u001b[38;5;241m=\u001b[39m trial\u001b[38;5;241m.\u001b[39msuggest_float(\u001b[38;5;124m\"\u001b[39m\u001b[38;5;124malpha\u001b[39m\u001b[38;5;124m\"\u001b[39m, \u001b[38;5;241m0.1\u001b[39m, \u001b[38;5;241m15\u001b[39m)\n\u001b[0;32m----> 9\u001b[0m precision \u001b[38;5;241m=\u001b[39m \u001b[43mrun_als\u001b[49m\u001b[43m(\u001b[49m\n\u001b[1;32m     10\u001b[0m \u001b[43m    \u001b[49m\u001b[43mfactors\u001b[49m\u001b[38;5;241;43m=\u001b[39;49m\u001b[43mfactors\u001b[49m\u001b[43m,\u001b[49m\n\u001b[1;32m     11\u001b[0m \u001b[43m    \u001b[49m\u001b[43mregularization\u001b[49m\u001b[38;5;241;43m=\u001b[39;49m\u001b[43mregularization\u001b[49m\u001b[43m,\u001b[49m\n\u001b[1;32m     12\u001b[0m \u001b[43m    \u001b[49m\u001b[43miterations\u001b[49m\u001b[38;5;241;43m=\u001b[39;49m\u001b[43miterations\u001b[49m\u001b[43m,\u001b[49m\n\u001b[1;32m     13\u001b[0m \u001b[43m    \u001b[49m\u001b[43mn_negatives\u001b[49m\u001b[38;5;241;43m=\u001b[39;49m\u001b[43mn_negatives\u001b[49m\u001b[43m,\u001b[49m\u001b[43m \u001b[49m\n\u001b[1;32m     14\u001b[0m \u001b[43m    \u001b[49m\u001b[43malpha\u001b[49m\u001b[38;5;241;43m=\u001b[39;49m\u001b[43malpha\u001b[49m\u001b[43m,\u001b[49m\n\u001b[1;32m     15\u001b[0m \u001b[43m    \u001b[49m\u001b[43mn_trials\u001b[49m\u001b[38;5;241;43m=\u001b[39;49m\u001b[43mN_TRIALS\u001b[49m\u001b[43m,\u001b[49m\n\u001b[1;32m     16\u001b[0m \u001b[43m    \u001b[49m\u001b[43mrun_name\u001b[49m\u001b[38;5;241;43m=\u001b[39;49m\u001b[38;5;124;43m'\u001b[39;49m\u001b[38;5;124;43mALS_optuna\u001b[39;49m\u001b[38;5;124;43m'\u001b[39;49m\u001b[43m,\u001b[49m\n\u001b[1;32m     17\u001b[0m \u001b[43m\u001b[49m\u001b[43m)\u001b[49m\n\u001b[1;32m     18\u001b[0m \u001b[38;5;28;01mreturn\u001b[39;00m precision\n",
      "Cell \u001b[0;32mIn[421], line 37\u001b[0m, in \u001b[0;36mrun_als\u001b[0;34m(factors, regularization, iterations, n_trials, n_negatives, alpha, run_name)\u001b[0m\n\u001b[1;32m     25\u001b[0m dataloader \u001b[38;5;241m=\u001b[39m DataLoader(\n\u001b[1;32m     26\u001b[0m     train_dataset, \n\u001b[1;32m     27\u001b[0m     shuffle\u001b[38;5;241m=\u001b[39m\u001b[38;5;28;01mTrue\u001b[39;00m, \n\u001b[0;32m   (...)\u001b[0m\n\u001b[1;32m     34\u001b[0m     ),\n\u001b[1;32m     35\u001b[0m )\n\u001b[1;32m     36\u001b[0m users, items, labels \u001b[38;5;241m=\u001b[39m \u001b[38;5;28mnext\u001b[39m(\u001b[38;5;28miter\u001b[39m(dataloader))\n\u001b[0;32m---> 37\u001b[0m \u001b[43mmodel\u001b[49m\u001b[38;5;241;43m.\u001b[39;49m\u001b[43mfit\u001b[49m\u001b[43m(\u001b[49m\u001b[43musers\u001b[49m\u001b[43m,\u001b[49m\u001b[43m \u001b[49m\u001b[43mitems\u001b[49m\u001b[43m,\u001b[49m\u001b[43m \u001b[49m\u001b[43mlabels\u001b[49m\u001b[43m,\u001b[49m\u001b[43m \u001b[49m\u001b[43mrun_params\u001b[49m\u001b[43m[\u001b[49m\u001b[38;5;124;43m\"\u001b[39;49m\u001b[38;5;124;43mn_negatives\u001b[39;49m\u001b[38;5;124;43m\"\u001b[39;49m\u001b[43m]\u001b[49m\u001b[43m)\u001b[49m\n\u001b[1;32m     39\u001b[0m \u001b[38;5;28;01mwith\u001b[39;00m mlflow\u001b[38;5;241m.\u001b[39mstart_run(run_name\u001b[38;5;241m=\u001b[39mrun_name):\n\u001b[1;32m     40\u001b[0m     \u001b[38;5;28;01mfor\u001b[39;00m param, value \u001b[38;5;129;01min\u001b[39;00m NOTEBOOK_PARAMS\u001b[38;5;241m.\u001b[39mitems():\n",
      "Cell \u001b[0;32mIn[415], line 22\u001b[0m, in \u001b[0;36mALSModel.fit\u001b[0;34m(self, users, items, labels, n_negatives)\u001b[0m\n\u001b[1;32m     17\u001b[0m items_ \u001b[38;5;241m=\u001b[39m items\u001b[38;5;241m.\u001b[39mflatten()\n\u001b[1;32m     19\u001b[0m \u001b[38;5;28mself\u001b[39m\u001b[38;5;241m.\u001b[39mmatrix \u001b[38;5;241m=\u001b[39m csr_matrix(\n\u001b[1;32m     20\u001b[0m     (labels_, (users_, items_)), shape\u001b[38;5;241m=\u001b[39m(\u001b[38;5;28mlen\u001b[39m(users_), \u001b[38;5;28mlen\u001b[39m(items_))\n\u001b[1;32m     21\u001b[0m )\n\u001b[0;32m---> 22\u001b[0m \u001b[38;5;28;43mself\u001b[39;49m\u001b[38;5;241;43m.\u001b[39;49m\u001b[43mmodel\u001b[49m\u001b[38;5;241;43m.\u001b[39;49m\u001b[43mfit\u001b[49m\u001b[43m(\u001b[49m\u001b[38;5;28;43mself\u001b[39;49m\u001b[38;5;241;43m.\u001b[39;49m\u001b[43mmatrix\u001b[49m\u001b[43m)\u001b[49m\n\u001b[1;32m     23\u001b[0m \u001b[38;5;28mself\u001b[39m\u001b[38;5;241m.\u001b[39mis_train \u001b[38;5;241m=\u001b[39m \u001b[38;5;28;01mTrue\u001b[39;00m\n",
      "File \u001b[0;32m~/.pyenv/versions/3.10.9/lib/python3.10/site-packages/implicit/cpu/als.py:201\u001b[0m, in \u001b[0;36mAlternatingLeastSquares.fit\u001b[0;34m(self, user_items, show_progress, callback)\u001b[0m\n\u001b[1;32m    198\u001b[0m \u001b[38;5;28;01mif\u001b[39;00m \u001b[38;5;28mself\u001b[39m\u001b[38;5;241m.\u001b[39mcalculate_training_loss:\n\u001b[1;32m    199\u001b[0m     log\u001b[38;5;241m.\u001b[39minfo(\u001b[38;5;124m\"\u001b[39m\u001b[38;5;124mFinal training loss \u001b[39m\u001b[38;5;132;01m%.4f\u001b[39;00m\u001b[38;5;124m\"\u001b[39m, loss)\n\u001b[0;32m--> 201\u001b[0m \u001b[38;5;28;43mself\u001b[39;49m\u001b[38;5;241;43m.\u001b[39;49m\u001b[43m_check_fit_errors\u001b[49m\u001b[43m(\u001b[49m\u001b[43m)\u001b[49m\n",
      "File \u001b[0;32m~/.pyenv/versions/3.10.9/lib/python3.10/site-packages/implicit/cpu/matrix_factorization_base.py:252\u001b[0m, in \u001b[0;36mMatrixFactorizationBase._check_fit_errors\u001b[0;34m(self)\u001b[0m\n\u001b[1;32m    250\u001b[0m is_nan \u001b[38;5;241m|\u001b[39m\u001b[38;5;241m=\u001b[39m np\u001b[38;5;241m.\u001b[39many(np\u001b[38;5;241m.\u001b[39misnan(\u001b[38;5;28mself\u001b[39m\u001b[38;5;241m.\u001b[39mitem_factors), axis\u001b[38;5;241m=\u001b[39m\u001b[38;5;28;01mNone\u001b[39;00m)\n\u001b[1;32m    251\u001b[0m \u001b[38;5;28;01mif\u001b[39;00m is_nan:\n\u001b[0;32m--> 252\u001b[0m     \u001b[38;5;28;01mraise\u001b[39;00m ModelFitError(\u001b[38;5;124m\"\u001b[39m\u001b[38;5;124mNaN encountered in factors\u001b[39m\u001b[38;5;124m\"\u001b[39m)\n",
      "\u001b[0;31mModelFitError\u001b[0m: NaN encountered in factors"
     ]
    }
   ],
   "source": [
    "study = optuna.create_study(direction='maximize')\n",
    "study.optimize(objective, n_trials=N_TRIALS)"
   ]
  }
 ],
 "metadata": {
  "kernelspec": {
   "display_name": "Python 3 (ipykernel)",
   "language": "python",
   "name": "python3"
  },
  "language_info": {
   "codemirror_mode": {
    "name": "ipython",
    "version": 3
   },
   "file_extension": ".py",
   "mimetype": "text/x-python",
   "name": "python",
   "nbconvert_exporter": "python",
   "pygments_lexer": "ipython3",
   "version": "3.10.9"
  }
 },
 "nbformat": 4,
 "nbformat_minor": 5
}
